{
 "cells": [
  {
   "cell_type": "markdown",
   "metadata": {},
   "source": [
    "### WAR - Card Game"
   ]
  },
  {
   "cell_type": "markdown",
   "metadata": {},
   "source": [
    " Create CARD class\n",
    " \n",
    " It should have attributes like...\n",
    " \n",
    "     Suit = heart,spade,club,diamond\n",
    " \n",
    "     Rank = two,three,four...Jack,Queen,King\n",
    "\n",
    "     Value = Two = 2,Three=3....King=13\n",
    " "
   ]
  },
  {
   "cell_type": "code",
   "execution_count": 3,
   "metadata": {},
   "outputs": [],
   "source": [
    "# Global variable\n",
    "import random\n",
    "suits = ('Heart','Diamond','Club','Spade')\n",
    "ranks = ('Two','Three','Four','Five','Six','Seven','Eight',\n",
    "         'Nine','Ten','Jack','Queen','King','Ace')\n",
    "value_dict = {'Two':2,'Three':3,'Four':4,'Five':5,'Six':6,'Seven':7,'Eight':8,'Nine':9,'Ten':10\n",
    "                      ,'Jack':11,'Queen':12,'King':13,'Ace':14}"
   ]
  },
  {
   "cell_type": "code",
   "execution_count": 4,
   "metadata": {},
   "outputs": [],
   "source": [
    "class Card():\n",
    "    \n",
    "    def __init__(self,suit,rank):\n",
    "        self.suit=suit\n",
    "        self.rank=rank.capitalize()\n",
    "        self.value = value_dict[rank.capitalize()]\n",
    "        \n",
    "    def __str__(self):\n",
    "        return self.rank +' of '+self.suit\n"
   ]
  },
  {
   "cell_type": "code",
   "execution_count": 94,
   "metadata": {},
   "outputs": [],
   "source": [
    "# These are objects created from Card Class\n",
    "two_hearts = Card(suit = 'Heart',rank = 'two')\n",
    "four_clubs = Card('Club','four')"
   ]
  },
  {
   "cell_type": "code",
   "execution_count": 95,
   "metadata": {},
   "outputs": [
    {
     "name": "stdout",
     "output_type": "stream",
     "text": [
      "Heart\n",
      "Two\n",
      "2\n",
      "Two of Heart\n"
     ]
    }
   ],
   "source": [
    "print(two_hearts.suit)\n",
    "print(two_hearts.rank)\n",
    "print(two_hearts.value)\n",
    "print(two_hearts)"
   ]
  },
  {
   "cell_type": "code",
   "execution_count": 113,
   "metadata": {},
   "outputs": [
    {
     "name": "stdout",
     "output_type": "stream",
     "text": [
      "Club\n",
      "Four\n",
      "4\n"
     ]
    },
    {
     "data": {
      "text/plain": [
       "'Four of Club'"
      ]
     },
     "execution_count": 113,
     "metadata": {},
     "output_type": "execute_result"
    }
   ],
   "source": [
    "print(four_clubs.suit)\n",
    "print(four_clubs.rank)\n",
    "print(four_clubs.value)\n",
    "str(four_clubs)"
   ]
  },
  {
   "cell_type": "code",
   "execution_count": 97,
   "metadata": {},
   "outputs": [
    {
     "data": {
      "text/plain": [
       "True"
      ]
     },
     "execution_count": 97,
     "metadata": {},
     "output_type": "execute_result"
    }
   ],
   "source": [
    "# Comparing the values\n",
    "\n",
    "two_hearts.value < four_clubs.value"
   ]
  },
  {
   "cell_type": "markdown",
   "metadata": {},
   "source": [
    "Create Deck Class\n",
    "    \n",
    "    This should have a empty list\n",
    "    In this empty list we append all the 52 instances of Card Objects"
   ]
  },
  {
   "cell_type": "markdown",
   "metadata": {},
   "source": [
    "Methods in Deck Class:\n",
    "    \n",
    "    Shuffle_card : This method is used to shuffle the cards\n",
    "    Deal_one : To remove the card  ==> We need to distribute these card to players       \n",
    "        "
   ]
  },
  {
   "cell_type": "code",
   "execution_count": 5,
   "metadata": {},
   "outputs": [],
   "source": [
    "class Deck():\n",
    "    \n",
    "    def __init__(self):\n",
    "        # List for all the cards\n",
    "        # This is an attribute which is a list\n",
    "        self.all_cards = []\n",
    "        \n",
    "        for suit in suits:\n",
    "            for rank in ranks:\n",
    "                # This is an object\n",
    "                single_card = Card(suit,rank)\n",
    "                #We are appending it to a list\n",
    "                self.all_cards.append(single_card)\n",
    "    \n",
    "    # Shuffle the cards\n",
    "    def shuffle_card(self):\n",
    "        \n",
    "        # This will shuffle the cards in place...doesnot print anything\n",
    "        random.shuffle(self.all_cards)\n",
    "    \n",
    "    # To get one card:\n",
    "    def deal_one(self):\n",
    "        return self.all_cards.pop()\n",
    "    \n",
    "    \n",
    "    def __str__(self):\n",
    "        return 'It is a deck'"
   ]
  },
  {
   "cell_type": "code",
   "execution_count": 172,
   "metadata": {},
   "outputs": [],
   "source": [
    "deck1 = Deck()"
   ]
  },
  {
   "cell_type": "code",
   "execution_count": 266,
   "metadata": {},
   "outputs": [
    {
     "name": "stdout",
     "output_type": "stream",
     "text": [
      "It is a deck\n"
     ]
    }
   ],
   "source": [
    "# This is an object\n",
    "print(deck1)\n",
    "# Object attribute\n",
    "#print(deck1.all_cards)\n",
    "# This will print List of Locations of single_card Objects\n"
   ]
  },
  {
   "cell_type": "code",
   "execution_count": 268,
   "metadata": {},
   "outputs": [
    {
     "name": "stdout",
     "output_type": "stream",
     "text": [
      "2\n"
     ]
    }
   ],
   "source": [
    "# Print first card\n",
    "first = deck1.all_cards[0].value\n",
    "print(first)"
   ]
  },
  {
   "cell_type": "code",
   "execution_count": null,
   "metadata": {},
   "outputs": [],
   "source": [
    "# To print all the cards\n",
    "for card in deck1.all_cards:\n",
    "    print(card)"
   ]
  },
  {
   "cell_type": "code",
   "execution_count": 168,
   "metadata": {},
   "outputs": [
    {
     "name": "stdout",
     "output_type": "stream",
     "text": [
      "Eight of Heart\n"
     ]
    }
   ],
   "source": [
    "# Shuffling cards\n",
    "\n",
    "# Shuffles deck1.all_cards\n",
    "deck1.shuffle_card() \n",
    "print(deck1.all_cards[0])"
   ]
  },
  {
   "cell_type": "code",
   "execution_count": 175,
   "metadata": {},
   "outputs": [
    {
     "name": "stdout",
     "output_type": "stream",
     "text": [
      "Queen of Spade\n"
     ]
    }
   ],
   "source": [
    "# To get one card\n",
    "\n",
    "print(deck1.deal_one())"
   ]
  },
  {
   "cell_type": "markdown",
   "metadata": {},
   "source": [
    "## Player Class\n",
    "\n",
    "    This has name argument that we need to pass to assign names of players\n",
    "    cards[] = It is a empty list ==> In which we add the cards\n",
    "\n",
    "### Methods in Player Class:\n",
    "        \n",
    "    Add_cards: To add cards to cards list\n",
    "               If we are adding single card ==> Then append method is used\n",
    "               If we are adding multiple cards ==> Extend method is used\n",
    "    \n",
    "    Remove_cards: To remove First card in the list"
   ]
  },
  {
   "cell_type": "code",
   "execution_count": 13,
   "metadata": {},
   "outputs": [],
   "source": [
    "class Player():\n",
    "    \n",
    "    def __init__(self,name):\n",
    "        self.name = name\n",
    "        self.cards = []\n",
    "     \n",
    "    \n",
    "        \n",
    "    def add_cards(self,new_cards):\n",
    "       # Check if new_cards multiple cards or single cards\n",
    "        if type(new_cards) == type([]):\n",
    "            \n",
    "            # If multiple cards we should not use append because it creates nested list\n",
    "            self.cards.extend(new_cards)\n",
    "        else:\n",
    "            self.cards.append(new_cards)\n",
    "    def remove_cards(self):\n",
    "        # have to remove first card\n",
    "        return self.cards.pop(0)\n",
    "    \n",
    "    \n",
    "    def __str__(self):\n",
    "        return f'Player : {self.name} has {len(self.cards)} cards'\n",
    "        "
   ]
  },
  {
   "cell_type": "code",
   "execution_count": 14,
   "metadata": {},
   "outputs": [],
   "source": [
    "player1 = Player('pavan sai')"
   ]
  },
  {
   "cell_type": "code",
   "execution_count": 15,
   "metadata": {},
   "outputs": [
    {
     "name": "stdout",
     "output_type": "stream",
     "text": [
      "['kinds', 'soeme', 'jose']\n"
     ]
    }
   ],
   "source": [
    "player1.add_cards(['kinds','soeme','jose'])\n",
    "print(player1.cards)"
   ]
  },
  {
   "cell_type": "code",
   "execution_count": 16,
   "metadata": {},
   "outputs": [
    {
     "name": "stdout",
     "output_type": "stream",
     "text": [
      "kinds\n"
     ]
    }
   ],
   "source": [
    "print(player1.remove_cards())"
   ]
  },
  {
   "cell_type": "code",
   "execution_count": 301,
   "metadata": {},
   "outputs": [
    {
     "name": "stdout",
     "output_type": "stream",
     "text": [
      "None\n"
     ]
    }
   ],
   "source": [
    "print(a)"
   ]
  },
  {
   "cell_type": "code",
   "execution_count": 230,
   "metadata": {},
   "outputs": [
    {
     "name": "stdout",
     "output_type": "stream",
     "text": [
      "Player : pavan sai has 0 cards\n"
     ]
    }
   ],
   "source": [
    "print(player1)\n"
   ]
  },
  {
   "cell_type": "code",
   "execution_count": 265,
   "metadata": {},
   "outputs": [
    {
     "name": "stdout",
     "output_type": "stream",
     "text": [
      "4\n"
     ]
    }
   ],
   "source": [
    "print(player1.cards[0].value)"
   ]
  },
  {
   "cell_type": "markdown",
   "metadata": {},
   "source": [
    "### Game Declarations\n",
    "\n",
    "    Declaring the players \n",
    "    Creating a new deck\n",
    "    Shuffling the deck\n",
    "    Splitting the deck between the players"
   ]
  },
  {
   "cell_type": "code",
   "execution_count": 17,
   "metadata": {},
   "outputs": [
    {
     "name": "stdout",
     "output_type": "stream",
     "text": [
      "Enter the player1 namePavan\n",
      "Enter the player2 namesai\n",
      "\n",
      "*******Lets start the game ********\n",
      "\n",
      "Hit Enter to shuffle the cards\n",
      "Shuffling the cards ........\n"
     ]
    }
   ],
   "source": [
    "# Declare players\n",
    "player1 = Player(input('Enter the player1 name'))\n",
    "player2 = Player(input('Enter the player2 name'))\n",
    "\n",
    "print('\\n*******Lets start the game ********')\n",
    "\n",
    "# Declare the deck\n",
    "new_deck = Deck()\n",
    "# Call shuffle method\n",
    "new_deck.shuffle_card()\n",
    "input('\\nHit Enter to shuffle the cards')\n",
    "print('Shuffling the cards ........')\n",
    "\n",
    "# Splitting the cards\n",
    "\n",
    "for i in range(26):\n",
    "    player1.add_cards(new_deck.deal_one())\n",
    "    player2.add_cards(new_deck.deal_one())\n"
   ]
  },
  {
   "cell_type": "markdown",
   "metadata": {},
   "source": [
    "## Game Logic"
   ]
  },
  {
   "cell_type": "code",
   "execution_count": 18,
   "metadata": {},
   "outputs": [
    {
     "name": "stdout",
     "output_type": "stream",
     "text": [
      "\n",
      "Round num : 1\n",
      "26\n",
      "26\n",
      "Queen of Heart Seven of Heart\n",
      "\n",
      "Round num : 2\n",
      "27\n",
      "25\n",
      "Three of Heart Three of Club\n",
      "WAR Started !!!\n",
      "\n",
      "Round num : 3\n",
      "21\n",
      "21\n",
      "Seven of Spade Nine of Diamond\n",
      "\n",
      "Round num : 4\n",
      "20\n",
      "22\n",
      "Jack of Heart Five of Spade\n",
      "\n",
      "Round num : 5\n",
      "21\n",
      "21\n",
      "Eight of Heart King of Club\n",
      "\n",
      "Round num : 6\n",
      "20\n",
      "22\n",
      "Nine of Spade Three of Diamond\n",
      "\n",
      "Round num : 7\n",
      "21\n",
      "21\n",
      "Seven of Club Ten of Diamond\n",
      "\n",
      "Round num : 8\n",
      "20\n",
      "22\n",
      "Four of Heart Eight of Club\n",
      "\n",
      "Round num : 9\n",
      "19\n",
      "23\n",
      "Six of Heart Three of Spade\n",
      "\n",
      "Round num : 10\n",
      "20\n",
      "22\n",
      "Six of Club King of Heart\n",
      "\n",
      "Round num : 11\n",
      "19\n",
      "23\n",
      "Jack of Diamond Queen of Club\n",
      "\n",
      "Round num : 12\n",
      "18\n",
      "24\n",
      "Ten of Heart Five of Diamond\n",
      "\n",
      "Round num : 13\n",
      "19\n",
      "23\n",
      "Queen of Diamond Five of Heart\n",
      "\n",
      "Round num : 14\n",
      "20\n",
      "22\n",
      "Five of Club Jack of Spade\n",
      "\n",
      "Round num : 15\n",
      "19\n",
      "23\n",
      "Nine of Heart Four of Club\n",
      "\n",
      "Round num : 16\n",
      "20\n",
      "22\n",
      "Two of Club Six of Diamond\n",
      "\n",
      "Round num : 17\n",
      "19\n",
      "23\n",
      "Nine of Club Ace of Club\n",
      "\n",
      "Round num : 18\n",
      "18\n",
      "24\n",
      "Seven of Diamond Eight of Spade\n",
      "\n",
      "Round num : 19\n",
      "17\n",
      "25\n",
      "Queen of Spade Eight of Diamond\n",
      "\n",
      "Round num : 20\n",
      "18\n",
      "24\n",
      "Four of Diamond Ten of Club\n",
      "\n",
      "Round num : 21\n",
      "17\n",
      "25\n",
      "King of Diamond Ace of Heart\n",
      "\n",
      "Round num : 22\n",
      "16\n",
      "26\n",
      "Queen of Heart Four of Spade\n",
      "\n",
      "Round num : 23\n",
      "17\n",
      "25\n",
      "Seven of Heart King of Spade\n",
      "\n",
      "Round num : 24\n",
      "16\n",
      "26\n",
      "Jack of Heart Seven of Spade\n",
      "\n",
      "Round num : 25\n",
      "17\n",
      "25\n",
      "Five of Spade Nine of Diamond\n",
      "\n",
      "Round num : 26\n",
      "16\n",
      "26\n",
      "Nine of Spade Eight of Heart\n",
      "\n",
      "Round num : 27\n",
      "17\n",
      "25\n",
      "Three of Diamond King of Club\n",
      "\n",
      "Round num : 28\n",
      "16\n",
      "26\n",
      "Six of Heart Seven of Club\n",
      "\n",
      "Round num : 29\n",
      "15\n",
      "27\n",
      "Three of Spade Ten of Diamond\n",
      "\n",
      "Round num : 30\n",
      "14\n",
      "28\n",
      "Ten of Heart Four of Heart\n",
      "\n",
      "Round num : 31\n",
      "15\n",
      "27\n",
      "Five of Diamond Eight of Club\n",
      "\n",
      "Round num : 32\n",
      "14\n",
      "28\n",
      "Queen of Diamond Six of Club\n",
      "\n",
      "Round num : 33\n",
      "15\n",
      "27\n",
      "Five of Heart King of Heart\n",
      "\n",
      "Round num : 34\n",
      "14\n",
      "28\n",
      "Nine of Heart Jack of Diamond\n",
      "\n",
      "Round num : 35\n",
      "13\n",
      "29\n",
      "Four of Club Queen of Club\n",
      "\n",
      "Round num : 36\n",
      "12\n",
      "30\n",
      "Queen of Spade Five of Club\n",
      "\n",
      "Round num : 37\n",
      "13\n",
      "29\n",
      "Eight of Diamond Jack of Spade\n",
      "\n",
      "Round num : 38\n",
      "12\n",
      "30\n",
      "Queen of Heart Two of Club\n",
      "\n",
      "Round num : 39\n",
      "13\n",
      "29\n",
      "Four of Spade Six of Diamond\n",
      "\n",
      "Round num : 40\n",
      "12\n",
      "30\n",
      "Jack of Heart Nine of Club\n",
      "\n",
      "Round num : 41\n",
      "13\n",
      "29\n",
      "Seven of Spade Ace of Club\n",
      "\n",
      "Round num : 42\n",
      "12\n",
      "30\n",
      "Nine of Spade Seven of Diamond\n",
      "\n",
      "Round num : 43\n",
      "13\n",
      "29\n",
      "Eight of Heart Eight of Spade\n",
      "WAR Started !!!\n",
      "\n",
      "Round num : 44\n",
      "9\n",
      "23\n",
      "Five of Club King of Spade\n",
      "\n",
      "Round num : 45\n",
      "8\n",
      "24\n",
      "Queen of Heart Five of Spade\n",
      "\n",
      "Round num : 46\n",
      "9\n",
      "23\n",
      "Two of Club Nine of Diamond\n",
      "\n",
      "Round num : 47\n",
      "8\n",
      "24\n",
      "Jack of Heart Three of Diamond\n",
      "\n",
      "Round num : 48\n",
      "9\n",
      "23\n",
      "Nine of Club King of Club\n",
      "\n",
      "Round num : 49\n",
      "8\n",
      "24\n",
      "Nine of Spade Six of Heart\n",
      "\n",
      "Round num : 50\n",
      "9\n",
      "23\n",
      "Seven of Diamond Seven of Club\n",
      "WAR Started !!!\n",
      "\n",
      "Round num : 51\n",
      "5\n",
      "17\n",
      "Three of Diamond King of Heart\n",
      "\n",
      "Round num : 52\n",
      "4\n",
      "18\n",
      "Nine of Spade Nine of Heart\n",
      "WAR Started !!!\n",
      "Player : Pavan has 3 cards doesnot have enough cards\n",
      "Player : sai has 17 cards  Wins !!!!\n"
     ]
    }
   ],
   "source": [
    "round_num = 0\n",
    "game_on = True\n",
    "\n",
    "# Start game\n",
    "\n",
    "while game_on:\n",
    "    \n",
    "    round_num += 1\n",
    "    print(f'\\nRound num : {round_num}')\n",
    "    print(len(player1.cards))\n",
    "    print(len(player2.cards))\n",
    "#Check wheather players has cards\n",
    "\n",
    "    if len(player1.cards) == 0:\n",
    "        print(f'{player2} has won the match')\n",
    "        game_on=False\n",
    "        break\n",
    "        \n",
    "    if len(player2.cards) == 0:\n",
    "        print(f'{player1} has won the match')\n",
    "        game_on=False\n",
    "        break\n",
    "    \n",
    "    \n",
    "# Draw cards to table    \n",
    "    player1_cards_table = []\n",
    "    playing_card1=player1.remove_cards()\n",
    "    player1_cards_table.append(playing_card1)\n",
    "        \n",
    "    player2_cards_table = []\n",
    "    playing_card2=player2.remove_cards()\n",
    "    player2_cards_table.append(playing_card2)\n",
    "    \n",
    "    print(playing_card1,playing_card2)\n",
    "        \n",
    "     \n",
    "        #print(player1_cards_table,player2_cards_table)\n",
    "        \n",
    "    war =True\n",
    "        \n",
    "    while war:\n",
    "        \n",
    "            \n",
    "        if player1_cards_table[-1].value > player2_cards_table[-1].value :\n",
    "                \n",
    "                # Add cards to player 1 to original cards\n",
    "                \n",
    "            player1.add_cards(player1_cards_table[-1])\n",
    "            player1.add_cards(player2_cards_table[-1])\n",
    "                \n",
    "            war = False\n",
    "            \n",
    "            \n",
    "            \n",
    "        elif player1_cards_table[-1].value < player2_cards_table[-1].value:\n",
    "                \n",
    "            player2.add_cards(player1_cards_table[-1])\n",
    "            player2.add_cards(player2_cards_table[-1])\n",
    "            \n",
    "            war = False\n",
    "            \n",
    "            \n",
    "        else:\n",
    "                \n",
    "            print('WAR Started !!!')\n",
    "                \n",
    "                # Players should have min - 5 cards\n",
    "            if len(player1.cards) < 5:\n",
    "                print(f'{player1.name} doesnot have enough cards')\n",
    "                print(f'{player2.name}  Wins !!!!')\n",
    "                game_on = False\n",
    "                break\n",
    "                \n",
    "            elif len(player2.cards) < 5:\n",
    "                print(f'{player2.name} doesnot have enough cards')\n",
    "                print(f'{player1.name} Wins !!!!')\n",
    "                game_on = False\n",
    "                break\n",
    "                \n",
    "            else:\n",
    "                    \n",
    "                    # Draw five cards to the table\n",
    "                    \n",
    "                for i in range(5):\n",
    "                    player1_cards_table.append(player1.remove_cards())\n",
    "                    player2_cards_table.append(player2.remove_cards())\n",
    "            \n",
    "       "
   ]
  },
  {
   "cell_type": "code",
   "execution_count": 274,
   "metadata": {},
   "outputs": [
    {
     "data": {
      "text/plain": [
       "[None]"
      ]
     },
     "execution_count": 274,
     "metadata": {},
     "output_type": "execute_result"
    }
   ],
   "source": [
    "player1_cards_table"
   ]
  },
  {
   "cell_type": "code",
   "execution_count": 261,
   "metadata": {},
   "outputs": [
    {
     "name": "stdout",
     "output_type": "stream",
     "text": [
      "Jack of Club\n",
      "Five of Club\n",
      "King of Club\n",
      "King of Diamond\n",
      "Ace of Heart\n",
      "Two of Club\n",
      "Eight of Club\n",
      "Five of Heart\n",
      "Three of Club\n",
      "Four of Heart\n",
      "Ten of Spade\n",
      "Ten of Club\n",
      "Nine of Heart\n",
      "Nine of Spade\n",
      "Ten of Diamond\n",
      "Two of Spade\n",
      "Ace of Diamond\n",
      "Four of Diamond\n",
      "Seven of Diamond\n",
      "Eight of Spade\n",
      "Two of Heart\n"
     ]
    }
   ],
   "source": []
  },
  {
   "cell_type": "code",
   "execution_count": 1,
   "metadata": {},
   "outputs": [
    {
     "ename": "NameError",
     "evalue": "name 'player1' is not defined",
     "output_type": "error",
     "traceback": [
      "\u001b[1;31m---------------------------------------------------------------------------\u001b[0m",
      "\u001b[1;31mNameError\u001b[0m                                 Traceback (most recent call last)",
      "\u001b[1;32m<ipython-input-1-a9a280ca83c0>\u001b[0m in \u001b[0;36m<module>\u001b[1;34m\u001b[0m\n\u001b[1;32m----> 1\u001b[1;33m \u001b[0mprint\u001b[0m\u001b[1;33m(\u001b[0m\u001b[0mlen\u001b[0m\u001b[1;33m(\u001b[0m\u001b[0mplayer1\u001b[0m\u001b[1;33m.\u001b[0m\u001b[0mcards\u001b[0m\u001b[1;33m)\u001b[0m\u001b[1;33m)\u001b[0m\u001b[1;33m\u001b[0m\u001b[1;33m\u001b[0m\u001b[0m\n\u001b[0m",
      "\u001b[1;31mNameError\u001b[0m: name 'player1' is not defined"
     ]
    }
   ],
   "source": [
    "print(len(player1.cards))"
   ]
  },
  {
   "cell_type": "code",
   "execution_count": 8,
   "metadata": {},
   "outputs": [],
   "source": [
    "a=False"
   ]
  },
  {
   "cell_type": "code",
   "execution_count": 11,
   "metadata": {},
   "outputs": [],
   "source": [
    "if  a:\n",
    "    print('otuput')"
   ]
  },
  {
   "cell_type": "code",
   "execution_count": null,
   "metadata": {},
   "outputs": [],
   "source": []
  }
 ],
 "metadata": {
  "kernelspec": {
   "display_name": "Python 3",
   "language": "python",
   "name": "python3"
  },
  "language_info": {
   "codemirror_mode": {
    "name": "ipython",
    "version": 3
   },
   "file_extension": ".py",
   "mimetype": "text/x-python",
   "name": "python",
   "nbconvert_exporter": "python",
   "pygments_lexer": "ipython3",
   "version": "3.8.3"
  }
 },
 "nbformat": 4,
 "nbformat_minor": 4
}
