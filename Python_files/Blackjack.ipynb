{
 "cells": [
  {
   "cell_type": "markdown",
   "metadata": {},
   "source": [
    "## BlackJack Game"
   ]
  },
  {
   "cell_type": "markdown",
   "metadata": {},
   "source": [
    "Create a Class of Card\n",
    "\n",
    "This class represents a virtual card.\n",
    "\n",
    "It has Suit,Rank and Value as attributes"
   ]
  },
  {
   "cell_type": "code",
   "execution_count": 53,
   "metadata": {},
   "outputs": [],
   "source": [
    "import random\n",
    "suits = ('Heart','Diamond','Club','Spade')\n",
    "ranks = ('Two','Three','Four','Five','Six','Seven','Eight',\n",
    "         'Nine','Ten','Jack','Queen','King','Ace')\n",
    "values = {'Two':2,'Three':3,'Four':4,'Five':5,'Six':6,'Seven':7,'Eight':8,'Nine':9,'Ten':10\n",
    "                      ,'Jack':10,'Queen':10,'King':10,'Ace':11}\n",
    "\n",
    "amount = 1000"
   ]
  },
  {
   "cell_type": "code",
   "execution_count": 54,
   "metadata": {},
   "outputs": [],
   "source": [
    "class Card():\n",
    "    \n",
    "    def __init__(self,suit,rank):\n",
    "        self.suit = suit\n",
    "        self.rank = rank.capitalize()\n",
    "        self.value = values[self.rank]\n",
    "        \n",
    "    def print_values(self):\n",
    "        print(self.suit,self.rank,self.value)\n",
    "    \n",
    "    def __str__(self):\n",
    "        return f'{self.rank} of {self.suit}'\n",
    "    "
   ]
  },
  {
   "cell_type": "code",
   "execution_count": 3,
   "metadata": {},
   "outputs": [],
   "source": [
    "Diamond_Queen = Card('Diamonds','Queen')"
   ]
  },
  {
   "cell_type": "markdown",
   "metadata": {},
   "source": [
    "### Class Deck\n",
    "        \n",
    "        Attribute : None\n",
    "        Methods:\n",
    "            Initialization = Creates new deck automatically when decalred\n",
    "            Shuffle_cards\n",
    "            Hit_card = remove one card from deck"
   ]
  },
  {
   "cell_type": "code",
   "execution_count": 55,
   "metadata": {},
   "outputs": [],
   "source": [
    "class Deck():\n",
    "    \n",
    "    def __init__(self):\n",
    "        self.cards = []\n",
    "    \n",
    "        for suit in suits:\n",
    "            for rank in ranks:\n",
    "\n",
    "                single_card = Card(suit,rank)\n",
    "                self.cards.append(single_card)\n",
    "    \n",
    "    # Shuffle method\n",
    "    \n",
    "    def shuffle_cards(self):\n",
    "        random.shuffle(self.cards)\n",
    "    \n",
    "    # To distribute\n",
    "    \n",
    "    def hit_card(self):\n",
    "        return self.cards.pop()\n",
    "        \n",
    "    def __str__(self):\n",
    "        # Print all the card objects in the list\n",
    "        for i in range(0,52):\n",
    "            print(self.cards[i])\n",
    "        return 'This is a Deck of cards class'\n",
    "    \n",
    "    def __len__(self):\n",
    "        return len(self.cards)"
   ]
  },
  {
   "cell_type": "code",
   "execution_count": null,
   "metadata": {},
   "outputs": [],
   "source": [
    "new_deck = Deck()\n",
    "print(new_deck)\n",
    "len(new_deck)"
   ]
  },
  {
   "cell_type": "code",
   "execution_count": 16,
   "metadata": {},
   "outputs": [
    {
     "name": "stdout",
     "output_type": "stream",
     "text": [
      "Two of Spade\n"
     ]
    }
   ],
   "source": [
    "#  print (new_deck.cards)\n",
    "# This has a list of card objects\n",
    "\n",
    "# first card in the deck\n",
    "print(new_deck.cards[0])"
   ]
  },
  {
   "cell_type": "code",
   "execution_count": 15,
   "metadata": {},
   "outputs": [],
   "source": [
    "new_deck.shuffle_cards()"
   ]
  },
  {
   "cell_type": "code",
   "execution_count": 17,
   "metadata": {},
   "outputs": [],
   "source": [
    "new_deck.remove_card()"
   ]
  },
  {
   "cell_type": "code",
   "execution_count": 18,
   "metadata": {},
   "outputs": [
    {
     "data": {
      "text/plain": [
       "51"
      ]
     },
     "execution_count": 18,
     "metadata": {},
     "output_type": "execute_result"
    }
   ],
   "source": [
    "len(new_deck)"
   ]
  },
  {
   "cell_type": "markdown",
   "metadata": {},
   "source": [
    "### Player Class\n",
    "    Attribute = name\n",
    "    Methods:\n",
    "        place_bet\n",
    "        add_cards\n",
    "        \n"
   ]
  },
  {
   "cell_type": "code",
   "execution_count": 56,
   "metadata": {},
   "outputs": [],
   "source": [
    "class Player():\n",
    "    \n",
    "    def __init__(self,name):\n",
    "        self.name = name\n",
    "        self.amount = 1000\n",
    "        # List of cards that player gets from deck\n",
    "        self.player_cards = []\n",
    "        #total value of cards\n",
    "        self.total = 0\n",
    "        # Counter for Aces\n",
    "        self.ace = 0\n",
    "    \n",
    "    \n",
    "    \n",
    "    def add_cards(self,new_card):\n",
    "        \n",
    "        # Method to add the cards to player_cards list\n",
    "        self.player_cards.append(new_card)\n",
    "        \n",
    "        # Add card value to entire value\n",
    "        self.total+=new_card.value\n",
    "        \n",
    "        #Count if card is ace\n",
    "        if new_card == 'Ace':\n",
    "            self.ace +=1\n",
    "    \n",
    "    \n",
    "    def adjust_for_ace(self,total):\n",
    "        \n",
    "        # If total value is >21 and we have ace\n",
    "        # Change the ace value from 11 to 1\n",
    "        if total >21 and self.ace:\n",
    "            self.value -= 10\n",
    "            self.ace -= 1   \n",
    "    \n",
    "    \n",
    "    def __str__(self):\n",
    "        return f'Player is {self.name}'\n",
    "    \n",
    "    def __len__(self):\n",
    "        return len(self.player_cards)"
   ]
  },
  {
   "cell_type": "code",
   "execution_count": 25,
   "metadata": {},
   "outputs": [
    {
     "name": "stdout",
     "output_type": "stream",
     "text": [
      "You have 1000 in you account\n",
      "Place how much amount you want to bet : 100\n",
      "You have 1000 in you account\n",
      "Place how much amount you want to bet : 100\n"
     ]
    }
   ],
   "source": [
    "player = Player('Pavan')\n",
    "dealer = Player('Dealer')"
   ]
  },
  {
   "cell_type": "code",
   "execution_count": 21,
   "metadata": {},
   "outputs": [
    {
     "name": "stdout",
     "output_type": "stream",
     "text": [
      "Player is Pavan\n"
     ]
    }
   ],
   "source": [
    "print(player1)"
   ]
  },
  {
   "cell_type": "code",
   "execution_count": 9,
   "metadata": {
    "scrolled": true
   },
   "outputs": [
    {
     "ename": "NameError",
     "evalue": "name 'player1' is not defined",
     "output_type": "error",
     "traceback": [
      "\u001b[1;31m---------------------------------------------------------------------------\u001b[0m",
      "\u001b[1;31mNameError\u001b[0m                                 Traceback (most recent call last)",
      "\u001b[1;32m<ipython-input-9-c453a7c5bf7a>\u001b[0m in \u001b[0;36m<module>\u001b[1;34m\u001b[0m\n\u001b[1;32m----> 1\u001b[1;33m \u001b[0mlen\u001b[0m\u001b[1;33m(\u001b[0m\u001b[0mplayer1\u001b[0m\u001b[1;33m)\u001b[0m\u001b[1;33m\u001b[0m\u001b[1;33m\u001b[0m\u001b[0m\n\u001b[0m",
      "\u001b[1;31mNameError\u001b[0m: name 'player1' is not defined"
     ]
    }
   ],
   "source": [
    "len(player1)"
   ]
  },
  {
   "cell_type": "markdown",
   "metadata": {},
   "source": [
    "### Chip Class"
   ]
  },
  {
   "cell_type": "code",
   "execution_count": 67,
   "metadata": {},
   "outputs": [],
   "source": [
    "class Chip():\n",
    "    \n",
    "    def __init__(self):\n",
    "        pass\n",
    "    \n",
    "    def place_bet(self):\n",
    "        \n",
    "        global amount\n",
    "    # place the bet\n",
    "        self.bet = int(input('Place how much amount you want to bet : '))\n",
    "        return self.bet\n",
    "        \n",
    "    def win_bet(self,bet):\n",
    "        \n",
    "        global amount\n",
    "        amount += bet\n",
    "        print(f'\\n \\tYou have won {self.bet}')\n",
    "        print(f'\\n \\tNow your amount is {amount}')\n",
    "        \n",
    "    def loose_bet(self,bet):\n",
    "        global amount\n",
    "        amount -= bet\n",
    "        print(f'\\n \\tYou lost {self.bet}')\n",
    "        print(f'\\n \\tNow your amount is {amount}')"
   ]
  },
  {
   "cell_type": "markdown",
   "metadata": {},
   "source": [
    "###  Start Game "
   ]
  },
  {
   "cell_type": "code",
   "execution_count": null,
   "metadata": {},
   "outputs": [],
   "source": []
  },
  {
   "cell_type": "markdown",
   "metadata": {},
   "source": [
    "### Logic"
   ]
  },
  {
   "cell_type": "code",
   "execution_count": 68,
   "metadata": {},
   "outputs": [
    {
     "name": "stdout",
     "output_type": "stream",
     "text": [
      "Enter players namePavan\n",
      "\n",
      "Start with a new Deck\n",
      "\n",
      "Hit enter to shuffle the cards\n",
      "\n",
      "Shuffling!!!!!\n",
      "Your amount is 500\n",
      "Place how much amount you want to bet : 200\n",
      "Bet has been placed\n",
      "\n",
      "******Starting the Game ***********\n",
      "Player1 card Ace of Diamond\n",
      "Player1 card Seven of Diamond\n",
      "\n",
      "Player2 card Nine of Diamond\n",
      "Pavan Your sum 18\n",
      "\n",
      "Do you want to hit the card: y or n ? n\n",
      "\n",
      " Stop hitting the card\n",
      "\n",
      " Dealers Turn ! Enter to Hit the card\n",
      "Adding new card King of Spade\n",
      "Dealer sum 26\n",
      "Dealer is Busted !!!!!\n",
      "Pavan Won the Black Jack :)  !!!!!\n",
      "Hit Enter to see your Bet results\n",
      "\n",
      " \tYou have won 200\n",
      "\n",
      " \tNow your amount is 700\n",
      "\n",
      "Do you want to continue? y or n :y\n",
      "Starting the new game \n",
      "\n",
      "Start with a new Deck\n",
      "\n",
      "Hit enter to shuffle the cards\n",
      "\n",
      "Shuffling!!!!!\n",
      "Your amount is 700\n",
      "Place how much amount you want to bet : 600\n",
      "Bet has been placed\n",
      "\n",
      "******Starting the Game ***********\n",
      "Player1 card Ace of Diamond\n",
      "Player1 card Seven of Diamond\n",
      "\n",
      "Player2 card Nine of Diamond\n",
      "Pavan Your sum 7\n",
      "\n",
      "Do you want to hit the card: y or n ? y\n",
      "Pavan Your sum 14\n",
      "\n",
      "Do you want to hit the card: y or n ? y\n",
      "Pavan Your sum 17\n",
      "\n",
      "Do you want to hit the card: y or n ? y\n",
      "Pavan Your sum 24\n",
      "\n",
      "Pavan is Busted \n",
      "\n",
      "Dealer Won the Black Jack :)  !!!!!\n",
      "\n",
      "Hit Enter to see your Bet results\n",
      "\n",
      " \tYou lost 600\n",
      "\n",
      " \tNow your amount is 100\n",
      "\n",
      "Do you want to continue? y or n :y\n",
      "Starting the new game \n",
      "\n",
      "Start with a new Deck\n",
      "\n",
      "Hit enter to shuffle the cards\n",
      "\n",
      "Shuffling!!!!!\n",
      "You have low amount to bet - 100\n",
      "\n",
      " Enter the amount to add in to your balance100\n",
      "Place how much amount you want to bet : 100\n",
      "Bet has been placed\n",
      "\n",
      "******Starting the Game ***********\n",
      "Player1 card Ace of Diamond\n",
      "Player1 card Seven of Diamond\n",
      "\n",
      "Player2 card Nine of Diamond\n",
      "Pavan Your sum 15\n",
      "\n",
      "Do you want to hit the card: y or n ? y\n",
      "Pavan Your sum 25\n",
      "\n",
      "Pavan is Busted \n",
      "\n",
      "Dealer Won the Black Jack :)  !!!!!\n",
      "\n",
      "Hit Enter to see your Bet results\n",
      "\n",
      " \tYou lost 100\n",
      "\n",
      " \tNow your amount is 100\n",
      "\n",
      "Do you want to continue? y or n :n\n",
      "Thanks for playing ! \n"
     ]
    }
   ],
   "source": [
    "# Get Player Class Objects\n",
    "player1 = Player(input('Enter players name'))\n",
    "player2 = Player('Dealer') # Computer\n",
    "\n",
    "\n",
    "while True:\n",
    "    \n",
    "    # For inner loops...\n",
    "    \n",
    "    player1_game = True\n",
    "    player2_game = True\n",
    "    \n",
    "    print('\\nStart with a new Deck')\n",
    "    new_deck = Deck()\n",
    "    input('\\nHit enter to shuffle the cards')\n",
    "    print('\\nShuffling!!!!!')\n",
    "    new_deck.shuffle_cards()\n",
    "\n",
    "    #Place the bet for player 1\n",
    "    chip = Chip()\n",
    "    \n",
    "    # Amount is global variable\n",
    "    # Check if amount is below 100\n",
    "    if amount <=100:\n",
    "        print(f'You have low amount to bet - {amount}')\n",
    "        amount += int(input('\\n Enter the amount to add in to your balance'))\n",
    "    else:\n",
    "        print(f'Your amount is {amount}')\n",
    "    \n",
    "    # Ask user to enter Bet amount\n",
    "    while True:\n",
    "        bet = chip.place_bet()\n",
    "\n",
    "        if bet> amount:\n",
    "            print(f'Please enter bet below your balance {amount}')\n",
    "            continue \n",
    "        else:\n",
    "            print('Bet has been placed')\n",
    "\n",
    "            break\n",
    "\n",
    "    # Draw two cards for each player\n",
    "    player1_sum =0\n",
    "    player2_sum = 0\n",
    "    \n",
    "    print('\\n******Starting the Game ***********')\n",
    "    \n",
    "    # Add cards and take sum and print the cards\n",
    "    for i in range(0,2):\n",
    "        player1.add_cards(new_deck.hit_card())\n",
    "        player1_sum += player1.player_cards[-1].value\n",
    "        print('Player1 card',player1.player_cards[i])\n",
    "        \n",
    "        player2.add_cards(new_deck.hit_card())\n",
    "        player2_sum += player2.player_cards[-1].value\n",
    "\n",
    "    # Print only first card of player 2\n",
    "    print('\\nPlayer2 card',player2.player_cards[0])\n",
    "    print('\\nOther card is hidden')\n",
    "    \n",
    "    # Start the loop for player1\n",
    "    while player1_game:\n",
    "        \n",
    "        print(f'{player1.name} Your sum {player1_sum}')\n",
    "        \n",
    "        if player1_sum > 21:\n",
    "                print(f'\\n{player1.name} is Busted ')\n",
    "                print(f'\\n{player2.name} Won the Black Jack :)  !!!!!')\n",
    "                input('\\nHit Enter to see your Bet results')\n",
    "                chip.loose_bet(bet)\n",
    "                player1_game=False\n",
    "                player2_game=False\n",
    "                break\n",
    "        else:\n",
    "            \n",
    "            value = input('\\nDo you want to hit the card: y or n ? ')\n",
    "\n",
    "            if value == 'y':\n",
    "                player1.add_cards(new_deck.hit_card())\n",
    "                player1_sum += player1.player_cards[-1].value\n",
    "                player1.adjust_for_ace(player1_sum)\n",
    "                \n",
    "            elif value == 'n':\n",
    "                print('\\n Stop hitting the card')\n",
    "                player1_game=False\n",
    "\n",
    "\n",
    "# For player 2   \n",
    "\n",
    "    while player2_game:\n",
    "        \n",
    "\n",
    "        if player2_sum > 21:\n",
    "            print(f'{player2.name} is Busted !!!!!')\n",
    "            print(f'{player1.name} Won the Black Jack :)  !!!!!')\n",
    "            input('Hit Enter to see your Bet results')\n",
    "            chip.win_bet(bet)\n",
    "            player2_game=False\n",
    "            break\n",
    "            \n",
    "        elif player2_sum in range(18,22):\n",
    "            # Stop hitting \n",
    "            print('\\n Have enough cards ... Stop hitting')\n",
    "            player2_game=False\n",
    "            \n",
    "        else:\n",
    "            # Hit the card\n",
    "            input('\\n Dealers Turn ! Enter to Hit the card')\n",
    "            player2.add_cards(new_deck.hit_card())\n",
    "            print(f'\\nAdding new card {player2.player_cards[-1]}')\n",
    "            player2_sum += player2.player_cards[-1].value\n",
    "            print(f'\\n{player2.name} sum {player2_sum}')\n",
    "    \n",
    "    # Out of player1_game and player2_game loops\n",
    "    \n",
    "    if player1_sum <=21 and player1_sum > player2_sum:\n",
    "        print(f'\\n{player1.name} Won the Black Jack :)  !!!!!')\n",
    "        input('\\nHit Enter to see your Bet results')\n",
    "        chip.win_bet(bet)\n",
    "        \n",
    "    if player2_sum <=21 and player2_sum > player1_sum:\n",
    "        print(f'\\n{player2.name} Won the Black Jack :)  !!!!!')\n",
    "        input('\\nHit Enter to see your Bet results')\n",
    "        chip.loose_bet(bet)\n",
    "    \n",
    "    replay = input('\\nDo you want to continue? y or n :').lower()\n",
    "    \n",
    "    if replay == 'y':\n",
    "        print('\\nStarting the new game ')\n",
    "        continue\n",
    "    \n",
    "    elif replay == 'n':\n",
    "        print('\\n Thanks for playing ! ')\n",
    "        break\n",
    "        "
   ]
  },
  {
   "cell_type": "code",
   "execution_count": null,
   "metadata": {},
   "outputs": [],
   "source": []
  },
  {
   "cell_type": "code",
   "execution_count": null,
   "metadata": {},
   "outputs": [],
   "source": []
  },
  {
   "cell_type": "code",
   "execution_count": null,
   "metadata": {},
   "outputs": [],
   "source": []
  },
  {
   "cell_type": "code",
   "execution_count": null,
   "metadata": {},
   "outputs": [],
   "source": [
    "class Chip():\n",
    "    \n",
    "    def __init__(self,amount):\n",
    "        self.amount = amount\n",
    "    \n",
    "    def place_bet(self):\n",
    "    # place the bet\n",
    "        print(f'You have {self.amount} in you account')\n",
    "        self.bet = int(input('Place how much amount you want to bet : '))\n",
    "        return self.bet\n",
    "        \n",
    "    def win_bet(self,bet):\n",
    "        self.amount += bet\n",
    "        print(f'You have won {self.bet}')\n",
    "        print(f'Now your amount is {self.amount}')\n",
    "        \n",
    "    def loose_bet(self,bet):\n",
    "        self.amount -= bet\n",
    "        print(f'You lost  won {self.bet}')\n",
    "        print(f'Now your amount is {self.amount}')"
   ]
  }
 ],
 "metadata": {
  "kernelspec": {
   "display_name": "Python 3",
   "language": "python",
   "name": "python3"
  },
  "language_info": {
   "codemirror_mode": {
    "name": "ipython",
    "version": 3
   },
   "file_extension": ".py",
   "mimetype": "text/x-python",
   "name": "python",
   "nbconvert_exporter": "python",
   "pygments_lexer": "ipython3",
   "version": "3.8.3"
  }
 },
 "nbformat": 4,
 "nbformat_minor": 4
}
