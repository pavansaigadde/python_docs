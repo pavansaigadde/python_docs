{
 "cells": [
  {
   "cell_type": "markdown",
   "metadata": {},
   "source": [
    "## User Input - Game\n",
    "\n",
    "We have a list of numbers\n",
    "\n",
    "User has to select a index and value to replace that item\n",
    "\n",
    "User gets option to exist or to continue\n"
   ]
  },
  {
   "cell_type": "code",
   "execution_count": null,
   "metadata": {},
   "outputs": [],
   "source": [
    "start_game()"
   ]
  },
  {
   "cell_type": "code",
   "execution_count": null,
   "metadata": {},
   "outputs": [],
   "source": [
    "# Start the GAme\n",
    "# Here we call other functions\n",
    "\n",
    "def start_game():\n",
    "    \n",
    "    end_game = False\n",
    "    list1 = [0,1,2,3,4]\n",
    "    while end_game == False:\n",
    "        \n",
    "        \n",
    "        a = mylist(list1) \n",
    "        index = select_index()\n",
    "        list1 = replacement(a,index) # New list\n",
    "        print (f'The new list after replacement : {list1}')\n",
    "        end_game = to_continue()"
   ]
  },
  {
   "cell_type": "code",
   "execution_count": 1,
   "metadata": {},
   "outputs": [],
   "source": [
    "# This is a fucntion in which we declare the list \n",
    "\n",
    "# We print and return the list\n",
    "\n",
    "def mylist(list1):\n",
    "    \n",
    "    print (f'This is the list of numbers : {list1}')\n",
    "    return list1"
   ]
  },
  {
   "cell_type": "code",
   "execution_count": 2,
   "metadata": {},
   "outputs": [],
   "source": [
    "# In this function we select a position of index\n",
    "# The input should be integer and in [0,1,2,3,4]\n",
    "\n",
    "def select_index():\n",
    "    \n",
    "    position = 'string'\n",
    "    variable = False\n",
    "    \n",
    "    while position.isdigit() == False or variable==False:\n",
    "        \n",
    "        position=input('Enter index position to replace : 0-4 -> ')\n",
    "        \n",
    "        if position.isdigit() == False:\n",
    "            print(' Entered input is not digit ')\n",
    "        \n",
    "        else:\n",
    "            if int(position) in range(0,5):\n",
    "                variable = True\n",
    "            \n",
    "            else:\n",
    "                print('Position in not within the range of 0-4')\n",
    "                variable = False\n",
    "    \n",
    "    return int(position)\n",
    "                 "
   ]
  },
  {
   "cell_type": "code",
   "execution_count": null,
   "metadata": {},
   "outputs": [],
   "source": []
  },
  {
   "cell_type": "code",
   "execution_count": 3,
   "metadata": {},
   "outputs": [],
   "source": [
    "# this function to replace the value in list\n",
    "# returns the new list\n",
    "def replacement(mylist,position):\n",
    "    value = input('Enter the value to replace : ')\n",
    "    mylist[position] = value\n",
    "    return mylist"
   ]
  },
  {
   "cell_type": "code",
   "execution_count": null,
   "metadata": {},
   "outputs": [],
   "source": []
  },
  {
   "cell_type": "code",
   "execution_count": 4,
   "metadata": {},
   "outputs": [],
   "source": [
    "# In this function we ask user to continue or exit\n",
    "\n",
    "def to_continue():\n",
    "    \n",
    "    str = 'something'\n",
    "    yes_no = {'y','n'}\n",
    "    while str not in yes_no:\n",
    "        str = input('Do you want to continue ? (y or n)')\n",
    "        \n",
    "        if str not in yes_no:\n",
    "            print ('I dont understand....Please enter y or n')\n",
    "    \n",
    "    if str == 'y':\n",
    "        print('Exiting ........')\n",
    "        return True\n",
    "    else:\n",
    "        return False\n",
    "      "
   ]
  },
  {
   "cell_type": "code",
   "execution_count": null,
   "metadata": {},
   "outputs": [],
   "source": []
  },
  {
   "cell_type": "code",
   "execution_count": 7,
   "metadata": {},
   "outputs": [],
   "source": []
  },
  {
   "cell_type": "code",
   "execution_count": null,
   "metadata": {},
   "outputs": [],
   "source": []
  },
  {
   "cell_type": "code",
   "execution_count": null,
   "metadata": {},
   "outputs": [],
   "source": []
  }
 ],
 "metadata": {
  "kernelspec": {
   "display_name": "Python 3",
   "language": "python",
   "name": "python3"
  },
  "language_info": {
   "codemirror_mode": {
    "name": "ipython",
    "version": 3
   },
   "file_extension": ".py",
   "mimetype": "text/x-python",
   "name": "python",
   "nbconvert_exporter": "python",
   "pygments_lexer": "ipython3",
   "version": "3.8.3"
  }
 },
 "nbformat": 4,
 "nbformat_minor": 4
}
