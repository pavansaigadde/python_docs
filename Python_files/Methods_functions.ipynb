{
 "cells": [
  {
   "cell_type": "markdown",
   "metadata": {},
   "source": [
    "## Methods and Functions"
   ]
  },
  {
   "cell_type": "markdown",
   "metadata": {},
   "source": [
    "Methods are built-in functions that belong to an object"
   ]
  },
  {
   "cell_type": "markdown",
   "metadata": {},
   "source": [
    "Object can be string,list,tuple,dictionaries"
   ]
  },
  {
   "cell_type": "markdown",
   "metadata": {},
   "source": [
    "List Methods are ==> list.append(),list.pop()"
   ]
  },
  {
   "cell_type": "code",
   "execution_count": 1,
   "metadata": {},
   "outputs": [],
   "source": [
    "mylist = [1,2,3]"
   ]
  },
  {
   "cell_type": "code",
   "execution_count": 4,
   "metadata": {},
   "outputs": [
    {
     "data": {
      "text/plain": [
       "[1, 2, 3, 4, 4]"
      ]
     },
     "execution_count": 4,
     "metadata": {},
     "output_type": "execute_result"
    }
   ],
   "source": [
    "mylist.append(4)# Append can take only one argument at a time\n",
    "mylist"
   ]
  },
  {
   "cell_type": "code",
   "execution_count": 5,
   "metadata": {},
   "outputs": [
    {
     "data": {
      "text/plain": [
       "4"
      ]
     },
     "execution_count": 5,
     "metadata": {},
     "output_type": "execute_result"
    }
   ],
   "source": [
    "mylist.pop()"
   ]
  },
  {
   "cell_type": "code",
   "execution_count": 6,
   "metadata": {},
   "outputs": [
    {
     "name": "stdout",
     "output_type": "stream",
     "text": [
      "Help on built-in function extend:\n",
      "\n",
      "extend(iterable, /) method of builtins.list instance\n",
      "    Extend list by appending elements from the iterable.\n",
      "\n"
     ]
    }
   ],
   "source": [
    "#We can use help command to know about the method\n",
    "help(mylist.extend)"
   ]
  },
  {
   "cell_type": "markdown",
   "metadata": {},
   "source": [
    "## functions"
   ]
  },
  {
   "cell_type": "markdown",
   "metadata": {},
   "source": [
    "Functions are block of code that can be executed many times"
   ]
  },
  {
   "cell_type": "markdown",
   "metadata": {},
   "source": [
    "def name_of_function():  ....is the way of declaring a function"
   ]
  },
  {
   "cell_type": "markdown",
   "metadata": {},
   "source": [
    "We use Snake Casing (All lower letters with underscore between) for naming function"
   ]
  },
  {
   "cell_type": "markdown",
   "metadata": {},
   "source": [
    "''' ...'''' Docstrings are multi-line comments"
   ]
  },
  {
   "cell_type": "code",
   "execution_count": 7,
   "metadata": {},
   "outputs": [
    {
     "name": "stdout",
     "output_type": "stream",
     "text": [
      "Helloo!!!\n"
     ]
    }
   ],
   "source": [
    "# Functions\n",
    "\n",
    "def first_function():\n",
    "    print('Helloo!!!')\n",
    "\n",
    "first_function()    "
   ]
  },
  {
   "cell_type": "code",
   "execution_count": 22,
   "metadata": {},
   "outputs": [
    {
     "name": "stdout",
     "output_type": "stream",
     "text": [
      "Hello something\n",
      "Hello something\n",
      "Hello something\n",
      "Hello something\n"
     ]
    }
   ],
   "source": [
    "# Passing Argument\n",
    "\n",
    "def first_function(name):\n",
    "    \n",
    "    print('Hello '+ name) \n",
    "    '''Concatenation + can be used only for strings\n",
    "        So only strings has to be passed\n",
    "        For other commands we can pass integer as well'''\n",
    "    \n",
    "    print('Hello',name)\n",
    "    print(f'Hello {name}')\n",
    "    print('Hello {}'.format(name))\n",
    "\n",
    "first_function('something')# We have to pass the value to the variable"
   ]
  },
  {
   "cell_type": "code",
   "execution_count": 23,
   "metadata": {},
   "outputs": [
    {
     "name": "stdout",
     "output_type": "stream",
     "text": [
      "Hii Default\n"
     ]
    }
   ],
   "source": [
    "# We can provide the Default value\n",
    "# If we don't pass any value to the function then it prints Default value\n",
    "def say_name(name= 'Default'):\n",
    "    print(f'Hii {name}')\n",
    "say_name()"
   ]
  },
  {
   "cell_type": "markdown",
   "metadata": {},
   "source": [
    "### Return"
   ]
  },
  {
   "cell_type": "markdown",
   "metadata": {},
   "source": [
    "Function returns the value instead of printing inside ...So we can save it in another variable"
   ]
  },
  {
   "cell_type": "code",
   "execution_count": 20,
   "metadata": {},
   "outputs": [
    {
     "name": "stdout",
     "output_type": "stream",
     "text": [
      "30\n"
     ]
    }
   ],
   "source": [
    "# Adding two parameters\n",
    "\n",
    "def add_num(num1,num2):\n",
    "    return num1+num2\n",
    "result=add_num(10,20)\n",
    "print(result)"
   ]
  },
  {
   "cell_type": "code",
   "execution_count": 24,
   "metadata": {},
   "outputs": [],
   "source": [
    "## Print VS Return"
   ]
  },
  {
   "cell_type": "code",
   "execution_count": 26,
   "metadata": {},
   "outputs": [
    {
     "name": "stdout",
     "output_type": "stream",
     "text": [
      "sum of arguments: 55\n",
      "Result value: None\n",
      "Type of Result: <class 'NoneType'>\n"
     ]
    }
   ],
   "source": [
    "# Print in the function just prints the value\n",
    "# We cannot assign value to a variable\n",
    "\n",
    "def print_result(a,b):\n",
    "    print('sum of arguments:',a+b)\n",
    "#No value will be stored in result   \n",
    "result = print_result(25,30)\n",
    "\n",
    "print('Result value:',result)\n",
    "print('Type of Result:',type(result))"
   ]
  },
  {
   "cell_type": "code",
   "execution_count": 49,
   "metadata": {},
   "outputs": [
    {
     "name": "stdout",
     "output_type": "stream",
     "text": [
      "Result value: 30\n",
      "Type of Result: <class 'int'>\n"
     ]
    }
   ],
   "source": [
    "def return_result(a,b):\n",
    "    return a+b\n",
    "#Return will return the value that can be stored \n",
    "result = return_result(10,20)\n",
    "print('Result value:',result)\n",
    "print('Type of Result:',type(result))\n",
    " "
   ]
  },
  {
   "cell_type": "code",
   "execution_count": 31,
   "metadata": {},
   "outputs": [
    {
     "name": "stdout",
     "output_type": "stream",
     "text": [
      "Result value: 1020\n",
      "Type of Result: <class 'str'>\n"
     ]
    }
   ],
   "source": [
    "# Python is dynamic typed language .. no need of decalring variables\n",
    "# So here we can send Strings to the function\n",
    "\n",
    "result = return_result('10','20')\n",
    "print('Result value:',result)\n",
    "print('Type of Result:',type(result))"
   ]
  },
  {
   "cell_type": "markdown",
   "metadata": {},
   "source": [
    "Checking wheather a number is even or odd"
   ]
  },
  {
   "cell_type": "code",
   "execution_count": 36,
   "metadata": {},
   "outputs": [
    {
     "name": "stdout",
     "output_type": "stream",
     "text": [
      "Enter a number to find even or odd: 243\n"
     ]
    },
    {
     "data": {
      "text/plain": [
       "False"
      ]
     },
     "execution_count": 36,
     "metadata": {},
     "output_type": "execute_result"
    }
   ],
   "source": [
    "# Returns Boolean True if Even\n",
    "def even_check(num):\n",
    "    return num % 2 ==0 \n",
    "num = int(input('Enter a number to find even or odd: '))\n",
    "even_check(num)"
   ]
  },
  {
   "cell_type": "code",
   "execution_count": 33,
   "metadata": {},
   "outputs": [
    {
     "name": "stdout",
     "output_type": "stream",
     "text": [
      "Enter a number to find even or odd: 923749827\n",
      "923749827 is odd\n"
     ]
    }
   ],
   "source": [
    "# Prints if num is even or odd\n",
    "def even_odd(num):\n",
    "    if num%2==0:\n",
    "        print(f'{num} is even')\n",
    "    else:\n",
    "        print(f'{num} is odd')\n",
    "num = int(input('Enter a number to find even or odd: '))\n",
    "even_odd(num)"
   ]
  },
  {
   "cell_type": "markdown",
   "metadata": {},
   "source": [
    "Return True if the a number in list is even \n",
    "#Return False if there is no Even number in list "
   ]
  },
  {
   "cell_type": "code",
   "execution_count": 61,
   "metadata": {},
   "outputs": [
    {
     "data": {
      "text/plain": [
       "False"
      ]
     },
     "execution_count": 61,
     "metadata": {},
     "output_type": "execute_result"
    }
   ],
   "source": [
    "def even_list(mylist):\n",
    "    for i in mylist:\n",
    "        if i%2 == 0:\n",
    "            return True\n",
    "            # If we encounter Even number then Below return is not executed\n",
    "        else:\n",
    "            # return False ==> This is wrong\n",
    "            #It will only check for one element in the list\n",
    "            pass\n",
    "    return False\n",
    "even_list([1,1,3]) # returns False because no even number\n"
   ]
  },
  {
   "cell_type": "code",
   "execution_count": 60,
   "metadata": {},
   "outputs": [
    {
     "data": {
      "text/plain": [
       "True"
      ]
     },
     "execution_count": 60,
     "metadata": {},
     "output_type": "execute_result"
    }
   ],
   "source": [
    "even_list([1,2,3,4,]) # Returns True because 2 is even"
   ]
  },
  {
   "cell_type": "markdown",
   "metadata": {},
   "source": [
    "Return Even number in the list"
   ]
  },
  {
   "cell_type": "code",
   "execution_count": 62,
   "metadata": {},
   "outputs": [
    {
     "data": {
      "text/plain": [
       "10"
      ]
     },
     "execution_count": 62,
     "metadata": {},
     "output_type": "execute_result"
    }
   ],
   "source": [
    "# This function will return the first Even number in the list not all\n",
    "# Because the return function breaks out of the loop\n",
    "\n",
    "def even_list(mylist):\n",
    "    for i in mylist:\n",
    "        if i %2==0:\n",
    "            # Return Breaks out of the loop \n",
    "            return i \n",
    "        else:\n",
    "            pass # Returns to loop\n",
    "\n",
    "list1=[1,3,5,7,10,12] #Returns 10 not 12\n",
    "even_list(list1)"
   ]
  },
  {
   "cell_type": "markdown",
   "metadata": {},
   "source": [
    "To return all the even numbers in the list"
   ]
  },
  {
   "cell_type": "code",
   "execution_count": 65,
   "metadata": {},
   "outputs": [
    {
     "data": {
      "text/plain": [
       "[2, 4, 6, 8]"
      ]
     },
     "execution_count": 65,
     "metadata": {},
     "output_type": "execute_result"
    }
   ],
   "source": [
    "def even_num(list1):\n",
    "    # Place holder for the even number list\n",
    "    even_list = []\n",
    "    for i in list1:\n",
    "        if i % 2 == 0:\n",
    "            even_list.append(i)\n",
    "            #return even_list \n",
    "# If return is inside the loop it will return the first even number only\n",
    "# It will not iterate through entire loop\n",
    "        else:\n",
    "            pass\n",
    "    return even_list\n",
    "    # Return should be outside the loop\n",
    "    \n",
    "even_num([1,2,3,4,5,6,7,8,9])"
   ]
  },
  {
   "cell_type": "markdown",
   "metadata": {},
   "source": [
    "Functions ==> Tuple Unpacking"
   ]
  },
  {
   "cell_type": "code",
   "execution_count": 78,
   "metadata": {},
   "outputs": [
    {
     "data": {
      "text/plain": [
       "[2, 4, 6]"
      ]
     },
     "execution_count": 78,
     "metadata": {},
     "output_type": "execute_result"
    }
   ],
   "source": [
    "def fun_tup(mylist):\n",
    "    tup1=[]\n",
    "    tup2=[]\n",
    "    for a,b in mylist:\n",
    "        tup1.append(a)\n",
    "        tup2.append(b)\n",
    "    \n",
    "    return(tup2)\n",
    "\n",
    "fun_tup([('One',2),('Two',4),('Threee',6)])"
   ]
  },
  {
   "cell_type": "markdown",
   "metadata": {},
   "source": [
    "Highest salary of emp using Tuple Unpacking"
   ]
  },
  {
   "cell_type": "code",
   "execution_count": 84,
   "metadata": {},
   "outputs": [
    {
     "data": {
      "text/plain": [
       "('varun', 5504403)"
      ]
     },
     "execution_count": 84,
     "metadata": {},
     "output_type": "execute_result"
    }
   ],
   "source": [
    "def high_sal(emp_sal):\n",
    "    # Place holders\n",
    "    high_sal = 0\n",
    "    emp_name=''\n",
    "    \n",
    "    for name,sal in emp_sal:\n",
    "        \n",
    "        if sal > high_sal:\n",
    "            high_sal=sal\n",
    "            emp_name = name\n",
    "    return emp_name,high_sal\n",
    "\n",
    "\n",
    "\n",
    "high_sal([('pavan',1000),('varun',5504403),('sai',40000)])"
   ]
  },
  {
   "cell_type": "code",
   "execution_count": 85,
   "metadata": {},
   "outputs": [
    {
     "data": {
      "text/plain": [
       "('varun', 5504403)"
      ]
     },
     "execution_count": 85,
     "metadata": {},
     "output_type": "execute_result"
    }
   ],
   "source": [
    "# We can save the returned value in a variable\n",
    "# It will return tuple\n",
    "emp_details = high_sal([('pavan',1000),('varun',5504403),('sai',40000)])\n",
    "emp_details"
   ]
  },
  {
   "cell_type": "code",
   "execution_count": 86,
   "metadata": {},
   "outputs": [
    {
     "data": {
      "text/plain": [
       "40000"
      ]
     },
     "execution_count": 86,
     "metadata": {},
     "output_type": "execute_result"
    }
   ],
   "source": [
    "# We can use Tuple unpacking\n",
    "name,sal =  high_sal([('pavan',1000),('gadde',123),('sai',40000)])\n",
    "\n",
    "sal"
   ]
  },
  {
   "cell_type": "code",
   "execution_count": 92,
   "metadata": {},
   "outputs": [
    {
     "data": {
      "text/plain": [
       "[5, 2, 4, 6, 1, 3]"
      ]
     },
     "execution_count": 92,
     "metadata": {},
     "output_type": "execute_result"
    }
   ],
   "source": [
    "# Shuffling using buit in function\n",
    "\n",
    "from random import shuffle\n",
    "mylist = [1,2,3,4,5,6]\n",
    "shuffle(mylist) # This will shuffle but doesnot return any value\n",
    "mylist\n"
   ]
  },
  {
   "cell_type": "code",
   "execution_count": 94,
   "metadata": {},
   "outputs": [
    {
     "data": {
      "text/plain": [
       "[6, 5, 3, 4, 2, 1]"
      ]
     },
     "execution_count": 94,
     "metadata": {},
     "output_type": "execute_result"
    }
   ],
   "source": [
    "# Shuffle the list using built in function and returns the shuffled list\n",
    "\n",
    "def shuffle_list(mylist):\n",
    "    from random import shuffle\n",
    "    shuffle(mylist)\n",
    "    return(mylist)\n"
   ]
  },
  {
   "cell_type": "markdown",
   "metadata": {},
   "source": [
    "Function Interactions: We use different function that interact with each other"
   ]
  },
  {
   "cell_type": "code",
   "execution_count": 109,
   "metadata": {},
   "outputs": [],
   "source": [
    "#Guess the location of * in a list\n",
    "# We use list ['','*','','']\n",
    "# This list has to be shuffled every time"
   ]
  },
  {
   "cell_type": "code",
   "execution_count": 122,
   "metadata": {},
   "outputs": [
    {
     "name": "stdout",
     "output_type": "stream",
     "text": [
      "Guess the location of * in list ['#', ' ', ' ', ' ']\n",
      "Enter 0 or 1 or 2 or 388\n",
      "Enter 0 or 1 or 2 or 388\n",
      "Enter 0 or 1 or 2 or 32\n"
     ]
    },
    {
     "data": {
      "text/plain": [
       "2"
      ]
     },
     "execution_count": 122,
     "metadata": {},
     "output_type": "execute_result"
    }
   ],
   "source": [
    "# This function takes the input from the user\n",
    "# Input should be in 0,1,2,3\n",
    "\n",
    "def player_guess():\n",
    "    # Empty string\n",
    "    guess = ''\n",
    "    print(f'Guess the location of * in list {mylist}')\n",
    "    \n",
    "    # Use while loop so that user can enter only 0,1,2,3\n",
    "    while guess not in ('0','1','2','3'):\n",
    "        #Input gives only strings\n",
    "        guess = input('Enter 0 or 1 or 2 or 3')  \n",
    "    \n",
    "    return int(guess)\n",
    "player_guess()"
   ]
  },
  {
   "cell_type": "code",
   "execution_count": 119,
   "metadata": {},
   "outputs": [
    {
     "name": "stdout",
     "output_type": "stream",
     "text": [
      "Guess the location of * in list ['#', ' ', ' ', ' ']0\n"
     ]
    }
   ],
   "source": [
    "# This function is used to check wheather the user's guess is right or wrong\n",
    "def check_guess(mylist,guess):\n",
    "    if mylist[guess] == '*':\n",
    "        print('You have guessed the right location')\n",
    "        print(f'\\nThe list is {mylist}')\n",
    "    else:\n",
    "        print('Sorry wrong guess !!!')\n",
    "        print(f'\\nThe list is {mylist}')"
   ]
  },
  {
   "cell_type": "code",
   "execution_count": 126,
   "metadata": {},
   "outputs": [
    {
     "name": "stdout",
     "output_type": "stream",
     "text": [
      "Guess the location of * in list ['', '', '*', '']\n",
      "Enter 0 or 1 or 2 or 32\n",
      "You have guessed the right location\n",
      "The list is ['', '', '*', '']\n"
     ]
    }
   ],
   "source": [
    "# Declare a list\n",
    "mylist = ['','','*','']\n",
    "\n",
    "# Function to shuffle the list\n",
    "shuffledlist = shuffle_list(mylist)\n",
    "\n",
    "# function to take input from user\n",
    "# No input paramter is passed\n",
    "guess = player_guess()\n",
    "\n",
    "# function to check the guess\n",
    "check_guess(mylist,guess)"
   ]
  },
  {
   "cell_type": "code",
   "execution_count": 129,
   "metadata": {},
   "outputs": [
    {
     "name": "stdout",
     "output_type": "stream",
     "text": [
      "Hello World\n"
     ]
    }
   ],
   "source": [
    "def func():\n",
    "    print('Hello World')\n",
    "func()"
   ]
  },
  {
   "cell_type": "markdown",
   "metadata": {},
   "source": [
    "## **args and **kwargs"
   ]
  },
  {
   "cell_type": "markdown",
   "metadata": {},
   "source": [
    "Argumets *args and keyword arguments **kwargs"
   ]
  },
  {
   "cell_type": "markdown",
   "metadata": {},
   "source": [
    "These are used when we want to send arbitary(random) number of arguments to function not fixed \n",
    "\n",
    "args store the arguments in tuple"
   ]
  },
  {
   "cell_type": "code",
   "execution_count": 132,
   "metadata": {},
   "outputs": [],
   "source": [
    "def add_num(a,b):\n",
    "    # We have to pass arguments as tuple for sum()\n",
    "    return sum((a,b))\n",
    "# Here a,b are Positional Arguments"
   ]
  },
  {
   "cell_type": "code",
   "execution_count": 133,
   "metadata": {},
   "outputs": [
    {
     "data": {
      "text/plain": [
       "30"
      ]
     },
     "execution_count": 133,
     "metadata": {},
     "output_type": "execute_result"
    }
   ],
   "source": [
    "add_num(10,20)"
   ]
  },
  {
   "cell_type": "markdown",
   "metadata": {},
   "source": [
    "If we want to increase the arguments we have to declare default values"
   ]
  },
  {
   "cell_type": "markdown",
   "metadata": {},
   "source": [
    "Int => a=0 ... String => a=''...list => a=[]"
   ]
  },
  {
   "cell_type": "code",
   "execution_count": 134,
   "metadata": {},
   "outputs": [
    {
     "name": "stdout",
     "output_type": "stream",
     "text": [
      "Giving the sum of values\n"
     ]
    },
    {
     "data": {
      "text/plain": [
       "25"
      ]
     },
     "execution_count": 134,
     "metadata": {},
     "output_type": "execute_result"
    }
   ],
   "source": [
    "# Here we can pass upto 5 arguments...min=2/max=5\n",
    "\n",
    "def add_num(a,b,c=0,d=0,e=0):\n",
    "    print('Giving the sum of values')\n",
    "    return sum((a,b,c,d,e))\n",
    "add_num(10,12,3)\n"
   ]
  },
  {
   "cell_type": "code",
   "execution_count": 135,
   "metadata": {},
   "outputs": [],
   "source": [
    "# *args\n",
    "# If we want more number of arguments we use *args ==> non keyword arguments\n",
    "\n",
    "def add_num(*args):\n",
    "    # To return 10% of the sum\n",
    "    return sum(args)*0.5\n",
    "# Here args is a variable name can be anything ... * is mandatory"
   ]
  },
  {
   "cell_type": "code",
   "execution_count": 139,
   "metadata": {},
   "outputs": [
    {
     "data": {
      "text/plain": [
       "11.0"
      ]
     },
     "execution_count": 139,
     "metadata": {},
     "output_type": "execute_result"
    }
   ],
   "source": [
    "# now we can pass any number of arguments\n",
    "add_num(10,12)"
   ]
  },
  {
   "cell_type": "code",
   "execution_count": 140,
   "metadata": {},
   "outputs": [
    {
     "data": {
      "text/plain": [
       "84.0"
      ]
     },
     "execution_count": 140,
     "metadata": {},
     "output_type": "execute_result"
    }
   ],
   "source": [
    "add_num(11,12,23,23,44,55)"
   ]
  },
  {
   "cell_type": "code",
   "execution_count": 3,
   "metadata": {},
   "outputs": [],
   "source": [
    "# *args will store the arguments in the form of tuples\n",
    "# So we can perform Indexing and loops\n",
    "def add_num(*args):\n",
    "    #args[0]=10 Not supported in tuples\n",
    "    print (args[0])\n",
    "    # To return 10% of the sum\n",
    "    return sum(args)*0.5"
   ]
  },
  {
   "cell_type": "code",
   "execution_count": 4,
   "metadata": {},
   "outputs": [
    {
     "ename": "TypeError",
     "evalue": "'tuple' object does not support item assignment",
     "output_type": "error",
     "traceback": [
      "\u001b[1;31m---------------------------------------------------------------------------\u001b[0m",
      "\u001b[1;31mTypeError\u001b[0m                                 Traceback (most recent call last)",
      "\u001b[1;32m<ipython-input-4-f079a51f0143>\u001b[0m in \u001b[0;36m<module>\u001b[1;34m\u001b[0m\n\u001b[1;32m----> 1\u001b[1;33m \u001b[0madd_num\u001b[0m\u001b[1;33m(\u001b[0m\u001b[1;36m10\u001b[0m\u001b[1;33m,\u001b[0m\u001b[1;36m12\u001b[0m\u001b[1;33m,\u001b[0m\u001b[1;36m23\u001b[0m\u001b[1;33m,\u001b[0m\u001b[1;36m4\u001b[0m\u001b[1;33m,\u001b[0m\u001b[1;36m5\u001b[0m\u001b[1;33m,\u001b[0m\u001b[1;36m6\u001b[0m\u001b[1;33m)\u001b[0m\u001b[1;33m\u001b[0m\u001b[1;33m\u001b[0m\u001b[0m\n\u001b[0m",
      "\u001b[1;32m<ipython-input-3-206d04088771>\u001b[0m in \u001b[0;36madd_num\u001b[1;34m(*args)\u001b[0m\n\u001b[0;32m      2\u001b[0m \u001b[1;31m# So we can perform Indexing and loops\u001b[0m\u001b[1;33m\u001b[0m\u001b[1;33m\u001b[0m\u001b[1;33m\u001b[0m\u001b[0m\n\u001b[0;32m      3\u001b[0m \u001b[1;32mdef\u001b[0m \u001b[0madd_num\u001b[0m\u001b[1;33m(\u001b[0m\u001b[1;33m*\u001b[0m\u001b[0margs\u001b[0m\u001b[1;33m)\u001b[0m\u001b[1;33m:\u001b[0m\u001b[1;33m\u001b[0m\u001b[1;33m\u001b[0m\u001b[0m\n\u001b[1;32m----> 4\u001b[1;33m     \u001b[0margs\u001b[0m\u001b[1;33m[\u001b[0m\u001b[1;36m0\u001b[0m\u001b[1;33m]\u001b[0m\u001b[1;33m=\u001b[0m\u001b[1;36m10\u001b[0m\u001b[1;33m\u001b[0m\u001b[1;33m\u001b[0m\u001b[0m\n\u001b[0m\u001b[0;32m      5\u001b[0m     \u001b[0mprint\u001b[0m \u001b[1;33m(\u001b[0m\u001b[0margs\u001b[0m\u001b[1;33m[\u001b[0m\u001b[1;36m0\u001b[0m\u001b[1;33m]\u001b[0m\u001b[1;33m)\u001b[0m\u001b[1;33m\u001b[0m\u001b[1;33m\u001b[0m\u001b[0m\n\u001b[0;32m      6\u001b[0m     \u001b[1;31m# To return 10% of the sum\u001b[0m\u001b[1;33m\u001b[0m\u001b[1;33m\u001b[0m\u001b[1;33m\u001b[0m\u001b[0m\n",
      "\u001b[1;31mTypeError\u001b[0m: 'tuple' object does not support item assignment"
     ]
    }
   ],
   "source": [
    "add_num(10,12,23,4,5,6)"
   ]
  },
  {
   "cell_type": "code",
   "execution_count": null,
   "metadata": {},
   "outputs": [],
   "source": [
    "# **kargs ==> keyword arguments\n",
    "# It stores the arguments in dictionaries"
   ]
  },
  {
   "cell_type": "markdown",
   "metadata": {},
   "source": [
    "keyword arguments ==> myfunc(key='value',name='pavan')"
   ]
  },
  {
   "cell_type": "code",
   "execution_count": 169,
   "metadata": {},
   "outputs": [],
   "source": [
    "\n",
    "def my_func(**kwargs):\n",
    "    print(kwargs)\n",
    "    if 'name' in kwargs:\n",
    "        print('name is {}'.format(kwargs['name'])) \n",
    "        print('age is {}'.format(kwargs['age']))\n",
    "    else:\n",
    "        print('Name argument is not defined in function')"
   ]
  },
  {
   "cell_type": "code",
   "execution_count": 170,
   "metadata": {},
   "outputs": [
    {
     "name": "stdout",
     "output_type": "stream",
     "text": [
      "{'name': 'pavan', 'l_name': 'gadde', 'age': 18}\n",
      "name is pavan\n",
      "age is 18\n"
     ]
    }
   ],
   "source": [
    "# The arguments should be in the form of key=values\n",
    "my_func(name='pavan',l_name='gadde',age=18)"
   ]
  },
  {
   "cell_type": "markdown",
   "metadata": {},
   "source": [
    "Arguments should be passed as ====> func_name(key='value')"
   ]
  },
  {
   "cell_type": "markdown",
   "metadata": {},
   "source": [
    "These will be store in the form of dictionaries ==> {'key':'value'}"
   ]
  },
  {
   "cell_type": "code",
   "execution_count": 171,
   "metadata": {},
   "outputs": [],
   "source": [
    "# We can use combination of *args and **kwargs"
   ]
  },
  {
   "cell_type": "code",
   "execution_count": 177,
   "metadata": {},
   "outputs": [],
   "source": [
    "def myfunc(*args,**kwargs):\n",
    "    print('The items in args tuples {}'.format(args ))\n",
    "    print('Items in kargs Dictionaries {}'.format(kwargs))"
   ]
  },
  {
   "cell_type": "code",
   "execution_count": 178,
   "metadata": {},
   "outputs": [
    {
     "name": "stdout",
     "output_type": "stream",
     "text": [
      "The items in args tuples (10, 11, 12)\n",
      "Items in kargs Dictionaries {'name': 'pavan', 'l_name': 'gadde'}\n"
     ]
    }
   ],
   "source": [
    "# We can pass anynumber of arguments and keyword arguments\n",
    "myfunc(10,11,12,name='pavan',l_name='gadde')"
   ]
  },
  {
   "cell_type": "code",
   "execution_count": 186,
   "metadata": {},
   "outputs": [],
   "source": [
    "# We can perform indexing as well\n",
    "def myfunc(*args,**kwargs):\n",
    "    print('The first item in args tuples {}'.format(args[0]))\n",
    "    print('l_name value of karg Dictionaries {}'.format(kwargs['l_name']))"
   ]
  },
  {
   "cell_type": "code",
   "execution_count": 181,
   "metadata": {},
   "outputs": [
    {
     "name": "stdout",
     "output_type": "stream",
     "text": [
      "The first item in args tuples 10\n",
      "l_name value of karg Dictionaries gadde\n"
     ]
    }
   ],
   "source": [
    "myfunc(10,11,12,name='pavan',l_name='gadde')"
   ]
  },
  {
   "cell_type": "markdown",
   "metadata": {},
   "source": [
    "Print Even letters of string as Upper case and Odd letters as Lower case"
   ]
  },
  {
   "cell_type": "code",
   "execution_count": 189,
   "metadata": {},
   "outputs": [],
   "source": [
    "def myfunc(in_str):\n",
    "    out_str = '' # Empty string\n",
    "    a=0 # for indexing\n",
    "    for i in in_str:\n",
    "        if a%2==0:\n",
    "            out_str+=i.upper()\n",
    "        else:\n",
    "            out_str+=i.lower()\n",
    "        a+=1\n",
    "    return out_str"
   ]
  },
  {
   "cell_type": "code",
   "execution_count": 190,
   "metadata": {},
   "outputs": [
    {
     "data": {
      "text/plain": [
       "'PaVaNsAiGaDdE'"
      ]
     },
     "execution_count": 190,
     "metadata": {},
     "output_type": "execute_result"
    }
   ],
   "source": [
    "myfunc('pavansaigadde')"
   ]
  },
  {
   "cell_type": "code",
   "execution_count": 211,
   "metadata": {},
   "outputs": [
    {
     "name": "stdout",
     "output_type": "stream",
     "text": [
      "Help on built-in function join:\n",
      "\n",
      "join(iterable, /) method of builtins.str instance\n",
      "    Concatenate any number of strings.\n",
      "    \n",
      "    The string whose method is called is inserted in between each given string.\n",
      "    The result is returned as a new string.\n",
      "    \n",
      "    Example: '.'.join(['ab', 'pq', 'rs']) -> 'ab.pq.rs'\n",
      "\n"
     ]
    }
   ],
   "source": [
    "a= 'pavan'\n",
    "help(a.join)\n"
   ]
  },
  {
   "cell_type": "code",
   "execution_count": 214,
   "metadata": {},
   "outputs": [
    {
     "data": {
      "text/plain": [
       "'Hell0..world'"
      ]
     },
     "execution_count": 214,
     "metadata": {},
     "output_type": "execute_result"
    }
   ],
   "source": [
    "'..'.join(['Hell0','world'])"
   ]
  },
  {
   "cell_type": "code",
   "execution_count": 216,
   "metadata": {},
   "outputs": [
    {
     "data": {
      "text/plain": [
       "1"
      ]
     },
     "execution_count": 216,
     "metadata": {},
     "output_type": "execute_result"
    }
   ],
   "source": [
    "a=[1]\n",
    "a[0]"
   ]
  },
  {
   "cell_type": "markdown",
   "metadata": {},
   "source": [
    "## Maps"
   ]
  },
  {
   "cell_type": "markdown",
   "metadata": {},
   "source": [
    "Map is a built in function used to map a function to iterable objects like list,string...\n",
    "\n",
    "map(func_name,iterable_object)"
   ]
  },
  {
   "cell_type": "code",
   "execution_count": 19,
   "metadata": {},
   "outputs": [],
   "source": [
    "# Consider a fucntion that returns square of a number\n",
    "def squares(num):\n",
    "    return num*num\n"
   ]
  },
  {
   "cell_type": "code",
   "execution_count": 20,
   "metadata": {},
   "outputs": [
    {
     "data": {
      "text/plain": [
       "25"
      ]
     },
     "execution_count": 20,
     "metadata": {},
     "output_type": "execute_result"
    }
   ],
   "source": [
    "squares(5)"
   ]
  },
  {
   "cell_type": "code",
   "execution_count": 22,
   "metadata": {},
   "outputs": [],
   "source": [
    "# We cannot send a list of objects to that function since it accepts only int\n",
    "mylist = [1,2,3,4,5]\n",
    "#squares(mylist) ==> doesnot work"
   ]
  },
  {
   "cell_type": "code",
   "execution_count": 24,
   "metadata": {},
   "outputs": [
    {
     "data": {
      "text/plain": [
       "<map at 0x5363400>"
      ]
     },
     "execution_count": 24,
     "metadata": {},
     "output_type": "execute_result"
    }
   ],
   "source": [
    "# So we can use map function to map the function to the list \n",
    "# Map function doesnot print the output\n",
    "map(squares,mylist)"
   ]
  },
  {
   "cell_type": "code",
   "execution_count": 26,
   "metadata": {},
   "outputs": [
    {
     "name": "stdout",
     "output_type": "stream",
     "text": [
      "1\n",
      "4\n",
      "9\n",
      "16\n",
      "25\n"
     ]
    }
   ],
   "source": [
    "# We can use loop to iterate through map and print it\n",
    "for item in map(squares,mylist):\n",
    "    print (item)"
   ]
  },
  {
   "cell_type": "code",
   "execution_count": 27,
   "metadata": {},
   "outputs": [
    {
     "data": {
      "text/plain": [
       "[1, 4, 9, 16, 25]"
      ]
     },
     "execution_count": 27,
     "metadata": {},
     "output_type": "execute_result"
    }
   ],
   "source": [
    "# We can use list function\n",
    "list(map(squares,mylist))"
   ]
  },
  {
   "cell_type": "code",
   "execution_count": 32,
   "metadata": {},
   "outputs": [
    {
     "name": "stdout",
     "output_type": "stream",
     "text": [
      "pavan\n",
      "sai\n",
      "hello\n",
      "some\n"
     ]
    },
    {
     "data": {
      "text/plain": [
       "['Odd', 'Odd', 'Odd', 'Even']"
      ]
     },
     "execution_count": 32,
     "metadata": {},
     "output_type": "execute_result"
    }
   ],
   "source": [
    "# Consider a function that returns even or odd length of string\n",
    "def len_str(mystring):\n",
    "    print(mystring)\n",
    "    if len(mystring)%2==0:\n",
    "        return 'Even'\n",
    "    else:\n",
    "        return 'Odd'\n",
    "\n",
    "#Consider a list of strings\n",
    "mystrlist = ['pavan','sai','hello','some']\n",
    "\n",
    "# Map function to the iterable object = list\n",
    "list(map(len_str,mystrlist))"
   ]
  },
  {
   "cell_type": "code",
   "execution_count": 30,
   "metadata": {},
   "outputs": [
    {
     "name": "stdout",
     "output_type": "stream",
     "text": [
      "Pavan\n"
     ]
    },
    {
     "data": {
      "text/plain": [
       "'Odd'"
      ]
     },
     "execution_count": 30,
     "metadata": {},
     "output_type": "execute_result"
    }
   ],
   "source": [
    "# Con"
   ]
  },
  {
   "cell_type": "markdown",
   "metadata": {},
   "source": [
    "## Filters\n",
    "Filter retun the objects that are true in the function\n",
    "\n",
    "filter(function,iterable object)"
   ]
  },
  {
   "cell_type": "code",
   "execution_count": 35,
   "metadata": {},
   "outputs": [],
   "source": [
    "#We should define the function that returns True or False\n",
    "def even_odd(num):\n",
    "    return num%2==0"
   ]
  },
  {
   "cell_type": "code",
   "execution_count": 36,
   "metadata": {},
   "outputs": [],
   "source": [
    "mylist = [1,2,3,4,5]"
   ]
  },
  {
   "cell_type": "code",
   "execution_count": 37,
   "metadata": {},
   "outputs": [
    {
     "data": {
      "text/plain": [
       "<filter at 0x50650d0>"
      ]
     },
     "execution_count": 37,
     "metadata": {},
     "output_type": "execute_result"
    }
   ],
   "source": [
    "filter(even_odd,mylist)"
   ]
  },
  {
   "cell_type": "code",
   "execution_count": 40,
   "metadata": {},
   "outputs": [
    {
     "data": {
      "text/plain": [
       "[2, 4]"
      ]
     },
     "execution_count": 40,
     "metadata": {},
     "output_type": "execute_result"
    }
   ],
   "source": [
    "list(filter(even_odd,mylist))\n",
    "# This returns elements that return true in the function"
   ]
  },
  {
   "cell_type": "markdown",
   "metadata": {},
   "source": [
    "## Lambda\n",
    "Instead of creating a function wee can use lambda expression\n",
    "\n",
    "Lambda is using along with map and filter fucntions\n",
    "\n",
    "lambda variable_name:Operation.........  EX:  lambda a:a*20"
   ]
  },
  {
   "cell_type": "code",
   "execution_count": 42,
   "metadata": {},
   "outputs": [],
   "source": [
    "squares = lambda num:num **2"
   ]
  },
  {
   "cell_type": "code",
   "execution_count": 43,
   "metadata": {},
   "outputs": [
    {
     "data": {
      "text/plain": [
       "25"
      ]
     },
     "execution_count": 43,
     "metadata": {},
     "output_type": "execute_result"
    }
   ],
   "source": [
    "squares(5)"
   ]
  },
  {
   "cell_type": "code",
   "execution_count": 44,
   "metadata": {},
   "outputs": [
    {
     "data": {
      "text/plain": [
       "<map at 0x50659a0>"
      ]
     },
     "execution_count": 44,
     "metadata": {},
     "output_type": "execute_result"
    }
   ],
   "source": [
    "# We can use lambda along with map\n",
    "\n",
    "mylist = [1,2,3,4,5]\n",
    "map(lambda num:num **2,mylist) "
   ]
  },
  {
   "cell_type": "code",
   "execution_count": 45,
   "metadata": {},
   "outputs": [
    {
     "data": {
      "text/plain": [
       "[1, 4, 9, 16, 25]"
      ]
     },
     "execution_count": 45,
     "metadata": {},
     "output_type": "execute_result"
    }
   ],
   "source": [
    "list(map(lambda num:num **2,mylist))"
   ]
  },
  {
   "cell_type": "code",
   "execution_count": 46,
   "metadata": {},
   "outputs": [
    {
     "data": {
      "text/plain": [
       "[2, 4]"
      ]
     },
     "execution_count": 46,
     "metadata": {},
     "output_type": "execute_result"
    }
   ],
   "source": [
    "# Lambda with filter\n",
    "\n",
    "list(filter(lambda num:num%2 == 0,mylist))"
   ]
  },
  {
   "cell_type": "code",
   "execution_count": 47,
   "metadata": {},
   "outputs": [
    {
     "data": {
      "text/plain": [
       "['g', 'p', 's']"
      ]
     },
     "execution_count": 47,
     "metadata": {},
     "output_type": "execute_result"
    }
   ],
   "source": [
    "myname = ['gadde','pavan','sai']\n",
    "\n",
    "list(map(lambda letter:letter[0],myname))"
   ]
  },
  {
   "cell_type": "code",
   "execution_count": 48,
   "metadata": {},
   "outputs": [
    {
     "data": {
      "text/plain": [
       "['eddag', 'navap', 'ias']"
      ]
     },
     "execution_count": 48,
     "metadata": {},
     "output_type": "execute_result"
    }
   ],
   "source": [
    "# To reverse the string\n",
    "list(map(lambda letter:letter[::-1],myname))"
   ]
  },
  {
   "cell_type": "markdown",
   "metadata": {},
   "source": [
    "## Nested statements"
   ]
  },
  {
   "cell_type": "code",
   "execution_count": 53,
   "metadata": {},
   "outputs": [],
   "source": [
    "x=25\n",
    "\n",
    "def some():\n",
    "    x=50\n",
    "    return x"
   ]
  },
  {
   "cell_type": "code",
   "execution_count": 54,
   "metadata": {},
   "outputs": [
    {
     "name": "stdout",
     "output_type": "stream",
     "text": [
      "25\n"
     ]
    }
   ],
   "source": [
    "print(x)"
   ]
  },
  {
   "cell_type": "code",
   "execution_count": 55,
   "metadata": {},
   "outputs": [
    {
     "name": "stdout",
     "output_type": "stream",
     "text": [
      "50\n"
     ]
    }
   ],
   "source": [
    "print(some())"
   ]
  },
  {
   "cell_type": "markdown",
   "metadata": {},
   "source": [
    "## LEGB Rule:\n",
    "\n",
    "L - Local : Names assigned within a function def or lambda\n",
    "\n",
    "E - Enclosing function locals: Names in any enclosing functions def or lambda\n",
    "\n",
    "G - Global (Module) : Names assigned at top level of module or declared with global in def\n",
    "\n",
    "B - Built-in : Names preassigned in the built-in names module"
   ]
  },
  {
   "cell_type": "code",
   "execution_count": 56,
   "metadata": {},
   "outputs": [
    {
     "data": {
      "text/plain": [
       "<function __main__.<lambda>(num)>"
      ]
     },
     "execution_count": 56,
     "metadata": {},
     "output_type": "execute_result"
    }
   ],
   "source": [
    "# Local variable\n",
    "lambda num:num**2\n",
    "# num is a local variable to lambda"
   ]
  },
  {
   "cell_type": "code",
   "execution_count": 58,
   "metadata": {},
   "outputs": [
    {
     "name": "stdout",
     "output_type": "stream",
     "text": [
      "Hello Pavan\n"
     ]
    }
   ],
   "source": [
    "#Global Variable\n",
    "name = 'Pavan'\n",
    "\n",
    "def myfunc():\n",
    "    #Enclosing Variable\n",
    "    #name='Sai'\n",
    "    \n",
    "    def nest_func():\n",
    "        # Local Varibale\n",
    "        #name = 'Gadde'\n",
    "        print(f'Hello {name}')\n",
    "        \n",
    "    nest_func()\n",
    "\n",
    "myfunc()"
   ]
  },
  {
   "cell_type": "markdown",
   "metadata": {},
   "source": [
    "First it will Local then Enclosing and next Global"
   ]
  },
  {
   "cell_type": "code",
   "execution_count": 63,
   "metadata": {},
   "outputs": [
    {
     "ename": "SyntaxError",
     "evalue": "invalid syntax (<ipython-input-63-b4ac6b1acbfa>, line 1)",
     "output_type": "error",
     "traceback": [
      "\u001b[1;36m  File \u001b[1;32m\"<ipython-input-63-b4ac6b1acbfa>\"\u001b[1;36m, line \u001b[1;32m1\u001b[0m\n\u001b[1;33m    help(lambda)\u001b[0m\n\u001b[1;37m               ^\u001b[0m\n\u001b[1;31mSyntaxError\u001b[0m\u001b[1;31m:\u001b[0m invalid syntax\n"
     ]
    }
   ],
   "source": [
    "help(lambda)"
   ]
  },
  {
   "cell_type": "markdown",
   "metadata": {},
   "source": [
    "## Scope"
   ]
  },
  {
   "cell_type": "code",
   "execution_count": 64,
   "metadata": {},
   "outputs": [],
   "source": [
    "x=50\n",
    "\n",
    "def func(x):\n",
    "    print(f'x value is {x}')"
   ]
  },
  {
   "cell_type": "code",
   "execution_count": 65,
   "metadata": {},
   "outputs": [
    {
     "name": "stdout",
     "output_type": "stream",
     "text": [
      "x value is 50\n"
     ]
    }
   ],
   "source": [
    "func(x)"
   ]
  },
  {
   "cell_type": "code",
   "execution_count": 66,
   "metadata": {},
   "outputs": [],
   "source": [
    "x=50\n",
    "\n",
    "def func(x):\n",
    "    print(f'x value is {x}')\n",
    "    \n",
    "    # Local Variable reassignment\n",
    "    # But the scope will be within this function\n",
    "    x = 200\n",
    "    print(f'Reassgining the variable locally {x}')\n",
    "    "
   ]
  },
  {
   "cell_type": "code",
   "execution_count": 71,
   "metadata": {},
   "outputs": [
    {
     "name": "stdout",
     "output_type": "stream",
     "text": [
      "x value is 50\n",
      "Reassgining the variable locally 200\n"
     ]
    }
   ],
   "source": [
    "# Calling the function\n",
    "func(x)"
   ]
  },
  {
   "cell_type": "code",
   "execution_count": 73,
   "metadata": {},
   "outputs": [
    {
     "name": "stdout",
     "output_type": "stream",
     "text": [
      "50\n"
     ]
    }
   ],
   "source": [
    "# The reassignment inside the function will not have effect on the global variable\n",
    "print(x)"
   ]
  },
  {
   "cell_type": "code",
   "execution_count": 76,
   "metadata": {},
   "outputs": [
    {
     "name": "stdout",
     "output_type": "stream",
     "text": [
      "Global X value is 100\n",
      "Local reassignmet x = New\n",
      "The changed value of x = New\n"
     ]
    }
   ],
   "source": [
    "#USing Global keyword instead of passing the 'x'\n",
    "\n",
    "x=100\n",
    "\n",
    "def myfunc():\n",
    "    \n",
    "    # using Gloabl keyword\n",
    "    # Takes x value outside of the function\n",
    "    global x\n",
    "    \n",
    "    print(f'Global X value is {x}')\n",
    "    \n",
    "    # Local reassignment\n",
    "    # This will have effect on the global variable\n",
    "    x = 'New'\n",
    "    \n",
    "    print(f'Local reassignmet x = {x}')\n",
    "    \n",
    "myfunc()\n",
    "# Printing the x value after local reassignment\n",
    "print(f'The changed Global value of x = {x}')"
   ]
  },
  {
   "cell_type": "code",
   "execution_count": null,
   "metadata": {},
   "outputs": [],
   "source": []
  },
  {
   "cell_type": "code",
   "execution_count": null,
   "metadata": {},
   "outputs": [],
   "source": []
  }
 ],
 "metadata": {
  "kernelspec": {
   "display_name": "Python 3",
   "language": "python",
   "name": "python3"
  },
  "language_info": {
   "codemirror_mode": {
    "name": "ipython",
    "version": 3
   },
   "file_extension": ".py",
   "mimetype": "text/x-python",
   "name": "python",
   "nbconvert_exporter": "python",
   "pygments_lexer": "ipython3",
   "version": "3.8.3"
  }
 },
 "nbformat": 4,
 "nbformat_minor": 4
}
