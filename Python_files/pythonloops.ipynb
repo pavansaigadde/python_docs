{
 "cells": [
  {
   "cell_type": "markdown",
   "metadata": {},
   "source": [
    "## IF..Elif"
   ]
  },
  {
   "cell_type": "code",
   "execution_count": 25,
   "metadata": {},
   "outputs": [
    {
     "name": "stdout",
     "output_type": "stream",
     "text": [
      "5 is less than 10\n"
     ]
    }
   ],
   "source": [
    "var=5\n",
    "\n",
    "if (var > 100 ):\n",
    "    print('value is greater than 100')\n",
    "elif(var<10):\n",
    "    print(var ,'is less than 10')\n",
    "else:\n",
    "    print('Cannot determine')"
   ]
  },
  {
   "cell_type": "code",
   "execution_count": 30,
   "metadata": {},
   "outputs": [
    {
     "name": "stdout",
     "output_type": "stream",
     "text": [
      "Is your name kiran ?\n"
     ]
    }
   ],
   "source": [
    "name = 'kiran'\n",
    "\n",
    "if (name == 'pavan sai'):\n",
    "    print('Hi !!! Pavan sai')\n",
    "elif(name == 'tarun'):\n",
    "    print('Hi tarun')\n",
    "else:\n",
    "    print('Is your name',name,'?')"
   ]
  },
  {
   "cell_type": "markdown",
   "metadata": {},
   "source": [
    "# For Loop"
   ]
  },
  {
   "cell_type": "markdown",
   "metadata": {},
   "source": [
    "In python we can use For loop to print objects in all data structures"
   ]
  },
  {
   "cell_type": "markdown",
   "metadata": {},
   "source": [
    "Such as String,List,Tuple,Dictionaries"
   ]
  },
  {
   "cell_type": "markdown",
   "metadata": {},
   "source": [
    "EX: for i in d: ===> i represents each element of the d data structure\n",
    "#Here the i will increment automatically"
   ]
  },
  {
   "cell_type": "code",
   "execution_count": null,
   "metadata": {},
   "outputs": [],
   "source": [
    "# for i in mylist:\n",
    "    #commands"
   ]
  },
  {
   "cell_type": "code",
   "execution_count": 2,
   "metadata": {},
   "outputs": [
    {
     "name": "stdout",
     "output_type": "stream",
     "text": [
      "1\n",
      "2\n",
      "3\n"
     ]
    }
   ],
   "source": [
    "mylist=[1,2,3]\n",
    "\n",
    "for item in mylist:\n",
    "    print(item)\n",
    "# Here item is a variable which represents each object in the list from the start"
   ]
  },
  {
   "cell_type": "code",
   "execution_count": 3,
   "metadata": {},
   "outputs": [
    {
     "name": "stdout",
     "output_type": "stream",
     "text": [
      "hello\n",
      "hello\n",
      "hello\n"
     ]
    }
   ],
   "source": [
    "for item in mylist:\n",
    "    print('hello')"
   ]
  },
  {
   "cell_type": "code",
   "execution_count": 7,
   "metadata": {},
   "outputs": [
    {
     "name": "stdout",
     "output_type": "stream",
     "text": [
      "ODD : 1\n",
      "Even : 2\n",
      "ODD : 3\n",
      "Even : 4\n",
      "ODD : 5\n",
      "Even : 6\n",
      "ODD : 7\n",
      "Even : 8\n",
      "ODD : 9\n",
      "Even : 10\n"
     ]
    }
   ],
   "source": [
    "# Using For and IF conditions\n",
    "# Printing Even numbers\n",
    "\n",
    "mylist = [1,2,3,4,5,6,7,8,9,10]\n",
    "\n",
    "for num in mylist:\n",
    "    if (num % 2 == 0):\n",
    "        print('Even :',num)\n",
    "    else:\n",
    "        print('ODD :',num)"
   ]
  },
  {
   "cell_type": "code",
   "execution_count": 13,
   "metadata": {},
   "outputs": [
    {
     "name": "stdout",
     "output_type": "stream",
     "text": [
      "odd num : 1\n",
      "2\n",
      "odd num : 3\n",
      "4\n",
      "odd num : 5\n",
      "6\n",
      "odd num : 7\n",
      "8\n",
      "odd num : 9\n",
      "10\n"
     ]
    }
   ],
   "source": [
    "mylist = [1,2,3,4,5,6,7,8,9,10]\n",
    "\n",
    "for i in mylist:\n",
    "    if (i%2==0):\n",
    "        print(i)\n",
    "    else:\n",
    "        #using fstrings\n",
    "        print(f'odd num : {i}')"
   ]
  },
  {
   "cell_type": "code",
   "execution_count": 20,
   "metadata": {},
   "outputs": [
    {
     "name": "stdout",
     "output_type": "stream",
     "text": [
      "sum_Increment =  5\n",
      "sum_Increment =  10\n",
      "sum_Increment =  15\n",
      "sum_Increment =  20\n",
      "sum_Increment =  25\n",
      "total_sum =  25\n"
     ]
    }
   ],
   "source": [
    "# Getting sum of objects in list\n",
    "a = [1,2,3,4,5]\n",
    "\n",
    "total = 0\n",
    "\n",
    "for i in a:\n",
    "# b  is every single object in list \n",
    "    total = total + b\n",
    "    print('sum_Increment = ',total)\n",
    "    \n",
    "print('total_sum = ',total)"
   ]
  },
  {
   "cell_type": "code",
   "execution_count": 19,
   "metadata": {},
   "outputs": [
    {
     "name": "stdout",
     "output_type": "stream",
     "text": [
      "p\n",
      "a\n",
      "v\n",
      "a\n",
      "n\n"
     ]
    }
   ],
   "source": [
    "# Using For loop in Strings\n",
    "#Used to print every character in string \n",
    "\n",
    "mystring = 'pavan'\n",
    "\n",
    "for i in mystring:\n",
    "    print(i)\n"
   ]
  },
  {
   "cell_type": "markdown",
   "metadata": {},
   "source": [
    "We can use '_' instead of variable in for loop\n",
    "#for _ in mystring:"
   ]
  },
  {
   "cell_type": "code",
   "execution_count": 21,
   "metadata": {},
   "outputs": [
    {
     "name": "stdout",
     "output_type": "stream",
     "text": [
      "1\n",
      "2\n",
      "[3, 4]\n",
      "[5, 6]\n"
     ]
    }
   ],
   "source": [
    "# Nesting list\n",
    "mylist = [1,2,[3,4],[5,6]]\n",
    "\n",
    "for i in mylist:\n",
    "    print (i)"
   ]
  },
  {
   "cell_type": "code",
   "execution_count": 24,
   "metadata": {},
   "outputs": [
    {
     "name": "stdout",
     "output_type": "stream",
     "text": [
      "1\n",
      "2\n",
      "4\n",
      "55\n"
     ]
    }
   ],
   "source": [
    "# Tuples with for loop\n",
    "a = (1,2,4,55)\n",
    "for i in a:\n",
    "    print (i)"
   ]
  },
  {
   "cell_type": "code",
   "execution_count": 25,
   "metadata": {},
   "outputs": [
    {
     "name": "stdout",
     "output_type": "stream",
     "text": [
      "(1, 2)\n",
      "(3, 4)\n",
      "(5, 6)\n"
     ]
    }
   ],
   "source": [
    "# Consider a list of Tuples\n",
    "\n",
    "tuple_list = [(1,2),(3,4),(5,6)]\n",
    "\n",
    "# This will print the tuples\n",
    "for i in tuple_list:\n",
    "    print(i)"
   ]
  },
  {
   "cell_type": "markdown",
   "metadata": {},
   "source": [
    "## Tuple UnPacking"
   ]
  },
  {
   "cell_type": "code",
   "execution_count": 26,
   "metadata": {},
   "outputs": [
    {
     "name": "stdout",
     "output_type": "stream",
     "text": [
      "1\n",
      "2\n",
      "3\n",
      "4\n",
      "5\n",
      "6\n"
     ]
    }
   ],
   "source": [
    "# Print elements of the list individually\n",
    "tuple_list = [(1,2),(3,4),(5,6)]\n",
    "\n",
    "# Here a represents all the first elements in tuples\n",
    "# b represents all the second elements in tuples\n",
    "for (a,b) in tuple_list:\n",
    "    print(a)\n",
    "    print(b)\n",
    "\n",
    "# We can use without parenthesis\n",
    "# for a,b in tuple_list:"
   ]
  },
  {
   "cell_type": "code",
   "execution_count": 33,
   "metadata": {},
   "outputs": [
    {
     "name": "stdout",
     "output_type": "stream",
     "text": [
      "1\n",
      "2\n",
      "3\n",
      "66\n",
      "77\n",
      "9\n",
      "a\n",
      "b\n",
      "c\n"
     ]
    }
   ],
   "source": [
    "t = [(1,2,3),(66,77,9),('a','b','c')]\n",
    "\n",
    "\n",
    "# If we want only first element in each tuple\n",
    "for (a,b,c) in t:\n",
    "    print(a)"
   ]
  },
  {
   "cell_type": "markdown",
   "metadata": {},
   "source": [
    "## For in Dictionaries "
   ]
  },
  {
   "cell_type": "code",
   "execution_count": 34,
   "metadata": {},
   "outputs": [
    {
     "name": "stdout",
     "output_type": "stream",
     "text": [
      "k1\n",
      "k2\n",
      "k3\n"
     ]
    }
   ],
   "source": [
    "d = {'k1':1,'k2':2,'k3':3}\n",
    "\n",
    "# Only prints keys of dictionary\n",
    "for i in d:\n",
    "    print(i)"
   ]
  },
  {
   "cell_type": "markdown",
   "metadata": {},
   "source": [
    "We can use Dictionaries methods \n",
    "#Like d.keys() d.values(),d.items()"
   ]
  },
  {
   "cell_type": "code",
   "execution_count": 36,
   "metadata": {},
   "outputs": [
    {
     "name": "stdout",
     "output_type": "stream",
     "text": [
      "k1\n",
      "k2\n",
      "k3\n"
     ]
    }
   ],
   "source": [
    "for k in d.keys():\n",
    "    print(k)"
   ]
  },
  {
   "cell_type": "code",
   "execution_count": 37,
   "metadata": {},
   "outputs": [
    {
     "name": "stdout",
     "output_type": "stream",
     "text": [
      "1\n",
      "2\n",
      "3\n"
     ]
    }
   ],
   "source": [
    "for v in d.values():\n",
    "    print(v)"
   ]
  },
  {
   "cell_type": "code",
   "execution_count": 38,
   "metadata": {},
   "outputs": [
    {
     "name": "stdout",
     "output_type": "stream",
     "text": [
      "('k1', 1)\n",
      "('k2', 2)\n",
      "('k3', 3)\n"
     ]
    }
   ],
   "source": [
    "for i in d.items():\n",
    "    print(i)"
   ]
  },
  {
   "cell_type": "code",
   "execution_count": 39,
   "metadata": {},
   "outputs": [],
   "source": [
    "# Here we can use same Tuples Unpacking Techniques"
   ]
  },
  {
   "cell_type": "code",
   "execution_count": 44,
   "metadata": {},
   "outputs": [
    {
     "name": "stdout",
     "output_type": "stream",
     "text": [
      "k1 1\n",
      "k2 2\n",
      "k3 3\n"
     ]
    }
   ],
   "source": [
    "for key,value in d.items():\n",
    "    print(key,value)"
   ]
  },
  {
   "cell_type": "markdown",
   "metadata": {},
   "source": [
    "## While Loop"
   ]
  },
  {
   "cell_type": "code",
   "execution_count": 45,
   "metadata": {},
   "outputs": [],
   "source": [
    "# while condition:\n",
    "    # commands"
   ]
  },
  {
   "cell_type": "code",
   "execution_count": 55,
   "metadata": {},
   "outputs": [
    {
     "name": "stdout",
     "output_type": "stream",
     "text": [
      " The value of x is 0\n",
      " The value of x is 1\n",
      " The value of x is 2\n",
      " The value of x is 3\n",
      " The value of x is 4\n",
      " The value of x is 5\n"
     ]
    }
   ],
   "source": [
    "x=0\n",
    "\n",
    "while x<=5:\n",
    "     print(' The value of x is',x)\n",
    "#    print(f'Value of x is {x}')\n",
    "     x+=1"
   ]
  },
  {
   "cell_type": "code",
   "execution_count": 57,
   "metadata": {},
   "outputs": [
    {
     "name": "stdout",
     "output_type": "stream",
     "text": [
      " The value of x is 0\n",
      " The value of x is 1\n",
      " The value of x is 2\n",
      " The value of x is 3\n",
      " The value of x is 4\n",
      " The value of x is 5\n",
      "6 is greater than 5\n"
     ]
    }
   ],
   "source": [
    "# While and Else\n",
    "x=0\n",
    "\n",
    "while x<=5:\n",
    "     print(' The value of x is',x)\n",
    "#    print(f'Value of x is {x}')\n",
    "     x+=1\n",
    "else:\n",
    "    print(f'{x} is greater than 5')"
   ]
  },
  {
   "cell_type": "markdown",
   "metadata": {},
   "source": [
    "### Break"
   ]
  },
  {
   "cell_type": "markdown",
   "metadata": {},
   "source": [
    "Break Command is used to break out of the loop when condition is matched"
   ]
  },
  {
   "cell_type": "code",
   "execution_count": 60,
   "metadata": {},
   "outputs": [
    {
     "name": "stdout",
     "output_type": "stream",
     "text": [
      "P\n",
      "a\n",
      "v\n",
      "a\n",
      "n\n",
      " \n"
     ]
    }
   ],
   "source": [
    "mystring = 'Pavan sai'\n",
    "\n",
    "for i in mystring:\n",
    "    print(i)\n",
    "    if i == ' ':# Breaks the loop if ' ' comes\n",
    "        break\n",
    "    "
   ]
  },
  {
   "cell_type": "code",
   "execution_count": 79,
   "metadata": {},
   "outputs": [
    {
     "name": "stdout",
     "output_type": "stream",
     "text": [
      "100\n",
      "90\n",
      "80\n",
      "70\n"
     ]
    }
   ],
   "source": [
    "# Break is mostly used with while loop\n",
    "\n",
    "x=100\n",
    "\n",
    "while (x>50):\n",
    "    if (x==60):\n",
    "        break\n",
    "    print(x)\n",
    "    x-=10"
   ]
  },
  {
   "cell_type": "markdown",
   "metadata": {},
   "source": [
    "### Continue"
   ]
  },
  {
   "cell_type": "markdown",
   "metadata": {},
   "source": [
    "Continue is used to skip the commands if condition is matched and reaches top of the loop"
   ]
  },
  {
   "cell_type": "code",
   "execution_count": 74,
   "metadata": {},
   "outputs": [
    {
     "name": "stdout",
     "output_type": "stream",
     "text": [
      "p\n",
      "a\n",
      "v\n",
      "a\n",
      "n\n",
      " \n",
      "a\n",
      "i\n"
     ]
    }
   ],
   "source": [
    "mystring = 'pavan sai'\n",
    "\n",
    "for i in mystring:\n",
    "    if i=='s': # When i == 's' it will skip print and reaches to next element\n",
    "        continue \n",
    "    print(i) # Print should be out of the if condition"
   ]
  },
  {
   "cell_type": "markdown",
   "metadata": {},
   "source": [
    "### Pass"
   ]
  },
  {
   "cell_type": "markdown",
   "metadata": {},
   "source": [
    "This will not do anything "
   ]
  },
  {
   "cell_type": "code",
   "execution_count": 77,
   "metadata": {},
   "outputs": [],
   "source": [
    "i = [1,2,2]\n",
    "\n",
    "for a in i:\n",
    "    pass # This will not execute anything\n",
    "# Used to make changes later"
   ]
  },
  {
   "cell_type": "markdown",
   "metadata": {},
   "source": [
    "### Range"
   ]
  },
  {
   "cell_type": "markdown",
   "metadata": {},
   "source": [
    "Range is used print numbers within the given Range."
   ]
  },
  {
   "cell_type": "code",
   "execution_count": 82,
   "metadata": {},
   "outputs": [
    {
     "name": "stdout",
     "output_type": "stream",
     "text": [
      "0\n",
      "1\n",
      "2\n",
      "3\n",
      "4\n",
      "5\n",
      "6\n",
      "7\n",
      "8\n",
      "9\n"
     ]
    }
   ],
   "source": [
    "# This will print numbers upto 10 but doesnot include 10\n",
    "for num in range(0,10):\n",
    "    print (num)"
   ]
  },
  {
   "cell_type": "code",
   "execution_count": 84,
   "metadata": {},
   "outputs": [
    {
     "name": "stdout",
     "output_type": "stream",
     "text": [
      "2\n",
      "4\n",
      "6\n",
      "8\n"
     ]
    }
   ],
   "source": [
    "# We can give Step Value\n",
    "for num in range(2,10,2):\n",
    "    print (num)"
   ]
  },
  {
   "cell_type": "code",
   "execution_count": 1,
   "metadata": {},
   "outputs": [
    {
     "name": "stdout",
     "output_type": "stream",
     "text": [
      "0\n",
      "1\n",
      "2\n",
      "3\n",
      "4\n",
      "5\n",
      "6\n",
      "7\n",
      "8\n",
      "9\n"
     ]
    }
   ],
   "source": [
    "# If we don't provide start value it starts from 0\n",
    "for num in range(10):\n",
    "    print(num)"
   ]
  },
  {
   "cell_type": "markdown",
   "metadata": {},
   "source": [
    "### Enumerate"
   ]
  },
  {
   "cell_type": "markdown",
   "metadata": {},
   "source": [
    "When dealing with iterations we need to keep count of iterations."
   ]
  },
  {
   "cell_type": "markdown",
   "metadata": {},
   "source": [
    "Enumerate is a built in function used to keep the count of iterations for every iterable object like List and strings."
   ]
  },
  {
   "cell_type": "markdown",
   "metadata": {},
   "source": [
    "It prints the output in the form of list of tuples ==> (Index,Value)"
   ]
  },
  {
   "cell_type": "code",
   "execution_count": 2,
   "metadata": {},
   "outputs": [
    {
     "name": "stdout",
     "output_type": "stream",
     "text": [
      "the Letter p is at index 0\n",
      "the Letter a is at index 1\n",
      "the Letter v is at index 2\n",
      "the Letter a is at index 3\n",
      "the Letter n is at index 4\n"
     ]
    }
   ],
   "source": [
    "# Without enumerator\n",
    "# We want to get the index and letter of a string\n",
    "\n",
    "index=0\n",
    "for letter in 'pavan':\n",
    "    print(f'the Letter {letter} is at index {index}')\n",
    "    index += 1"
   ]
  },
  {
   "cell_type": "code",
   "execution_count": 8,
   "metadata": {},
   "outputs": [
    {
     "name": "stdout",
     "output_type": "stream",
     "text": [
      "The letter p is at index 0\n",
      "The letter a is at index 1\n",
      "The letter v is at index 2\n",
      "The letter a is at index 3\n",
      "The letter n is at index 4\n"
     ]
    }
   ],
   "source": [
    "# Another method\n",
    "# Using varible to declare as string and using string indexing\n",
    "index = 0\n",
    "word = 'pavan'\n",
    "\n",
    "for letter in word:\n",
    "    print(f'The letter {word[index]} is at index {index}')\n",
    "    index+=1"
   ]
  },
  {
   "cell_type": "markdown",
   "metadata": {},
   "source": [
    "Enumerate() can be used to print counter and iterable objects"
   ]
  },
  {
   "cell_type": "code",
   "execution_count": 10,
   "metadata": {},
   "outputs": [
    {
     "name": "stdout",
     "output_type": "stream",
     "text": [
      "(0, 'p')\n",
      "(1, 'a')\n",
      "(2, 'v')\n",
      "(3, 'a')\n",
      "(4, 'n')\n"
     ]
    }
   ],
   "source": [
    "word = 'pavan'\n",
    "\n",
    "# item in the for loop represents each element of the string\n",
    "\n",
    "for item in enumerate(word):\n",
    "    print (item)"
   ]
  },
  {
   "cell_type": "markdown",
   "metadata": {},
   "source": [
    "By default the Counter starts from 0 ... If we give enumerate(word,100) the counting starts from 100"
   ]
  },
  {
   "cell_type": "code",
   "execution_count": 11,
   "metadata": {},
   "outputs": [
    {
     "name": "stdout",
     "output_type": "stream",
     "text": [
      "(10, 'p')\n",
      "(11, 'a')\n",
      "(12, 'v')\n",
      "(13, 'a')\n",
      "(14, 'n')\n"
     ]
    }
   ],
   "source": [
    "word = 'pavan'\n",
    "\n",
    "for item in enumerate(word,10):\n",
    "    print (item)"
   ]
  },
  {
   "cell_type": "markdown",
   "metadata": {},
   "source": [
    "The output will be as printing list of tuples in for loop"
   ]
  },
  {
   "cell_type": "code",
   "execution_count": 14,
   "metadata": {},
   "outputs": [
    {
     "name": "stdout",
     "output_type": "stream",
     "text": [
      "(10, 12)\n",
      "(22, 33)\n",
      "(44, 88)\n"
     ]
    }
   ],
   "source": [
    "mylist = [(10,12),(22,33),(44,88)]\n",
    "\n",
    "for i in mylist:\n",
    "    print (i)"
   ]
  },
  {
   "cell_type": "markdown",
   "metadata": {},
   "source": [
    "We can use Tuple Unpacking method ... for a,b in t:"
   ]
  },
  {
   "cell_type": "code",
   "execution_count": 17,
   "metadata": {},
   "outputs": [
    {
     "name": "stdout",
     "output_type": "stream",
     "text": [
      "Index is 0 and Value is hi\n",
      "Index is 1 and Value is i am\n",
      "Index is 2 and Value is pavan\n",
      "Index is 3 and Value is sai\n"
     ]
    }
   ],
   "source": [
    "mylist=['hi','i am','pavan','sai']\n",
    "\n",
    "for index,value in enumerate(mylist):\n",
    "    print(f'Index is {index} and Value is {value}')"
   ]
  },
  {
   "cell_type": "markdown",
   "metadata": {},
   "source": [
    " ### Zip"
   ]
  },
  {
   "cell_type": "markdown",
   "metadata": {},
   "source": [
    "Zip combines lists"
   ]
  },
  {
   "cell_type": "code",
   "execution_count": null,
   "metadata": {},
   "outputs": [],
   "source": [
    "list1 = [1,2,3,4,5]\n",
    "list2 = ['a','b','c']\n",
    "list3 = ['first','second','third']\n",
    "\n",
    "for item in zip(list1,list2,list3):\n",
    "    print (item)\n",
    "\n",
    "    #Even if we have uneven numbers in list only the same numbers are taken into Zip"
   ]
  },
  {
   "cell_type": "code",
   "execution_count": 24,
   "metadata": {},
   "outputs": [
    {
     "name": "stdout",
     "output_type": "stream",
     "text": [
      "1\n",
      "first\n",
      "2\n",
      "second\n",
      "3\n",
      "third\n"
     ]
    }
   ],
   "source": [
    "# We can do tuple unpacking with zip\n",
    "\n",
    "for a,b,c in zip(list1,list2,list3):\n",
    "    print(a)\n",
    "    print(c)"
   ]
  },
  {
   "cell_type": "markdown",
   "metadata": {},
   "source": [
    "### IN Operator"
   ]
  },
  {
   "cell_type": "markdown",
   "metadata": {},
   "source": [
    "Used to check wheather a value is in the List/String/Dictionary"
   ]
  },
  {
   "cell_type": "code",
   "execution_count": 25,
   "metadata": {},
   "outputs": [
    {
     "data": {
      "text/plain": [
       "True"
      ]
     },
     "execution_count": 25,
     "metadata": {},
     "output_type": "execute_result"
    }
   ],
   "source": [
    "'a' in 'pavan'"
   ]
  },
  {
   "cell_type": "code",
   "execution_count": 26,
   "metadata": {},
   "outputs": [
    {
     "data": {
      "text/plain": [
       "True"
      ]
     },
     "execution_count": 26,
     "metadata": {},
     "output_type": "execute_result"
    }
   ],
   "source": [
    "1 in [1,2,4]"
   ]
  },
  {
   "cell_type": "code",
   "execution_count": 27,
   "metadata": {},
   "outputs": [
    {
     "data": {
      "text/plain": [
       "True"
      ]
     },
     "execution_count": 27,
     "metadata": {},
     "output_type": "execute_result"
    }
   ],
   "source": [
    "# In Dictionaries\n",
    "\n",
    "'k2' in {'k1':123,'k2':234}"
   ]
  },
  {
   "cell_type": "code",
   "execution_count": 28,
   "metadata": {},
   "outputs": [
    {
     "data": {
      "text/plain": [
       "True"
      ]
     },
     "execution_count": 28,
     "metadata": {},
     "output_type": "execute_result"
    }
   ],
   "source": [
    "# For Values\n",
    "\n",
    "d = {'k1':123,'k2':234}\n",
    "\n",
    "123 in d.values()"
   ]
  },
  {
   "cell_type": "markdown",
   "metadata": {},
   "source": [
    "## Random\n"
   ]
  },
  {
   "cell_type": "markdown",
   "metadata": {},
   "source": [
    "Random is a built in library which consist of many functions that we can import"
   ]
  },
  {
   "cell_type": "code",
   "execution_count": 29,
   "metadata": {},
   "outputs": [],
   "source": [
    "from random import shuffle\n",
    "\n",
    "mylist = [1,2,3,4,5,6,7,8,9,10]\n",
    "\n",
    "shuffle(mylist)"
   ]
  },
  {
   "cell_type": "code",
   "execution_count": 30,
   "metadata": {},
   "outputs": [
    {
     "data": {
      "text/plain": [
       "[4, 1, 7, 9, 6, 5, 10, 2, 8, 3]"
      ]
     },
     "execution_count": 30,
     "metadata": {},
     "output_type": "execute_result"
    }
   ],
   "source": [
    "mylist"
   ]
  },
  {
   "cell_type": "markdown",
   "metadata": {},
   "source": [
    "Shuffle is a function in Random library used to shuffle the numbers"
   ]
  },
  {
   "cell_type": "markdown",
   "metadata": {},
   "source": [
    "Shuffle is a in place function..So it does not print the output"
   ]
  },
  {
   "cell_type": "code",
   "execution_count": 34,
   "metadata": {},
   "outputs": [
    {
     "name": "stdout",
     "output_type": "stream",
     "text": [
      "None\n",
      "<class 'NoneType'>\n",
      "['I', 'Pavan sai', 'Am']\n"
     ]
    }
   ],
   "source": [
    "from random import shuffle\n",
    "\n",
    "mylist = ['I','Am','Pavan sai']\n",
    "\n",
    "a= shuffle(mylist)\n",
    "\n",
    "# Shuffle doesnot print any output\n",
    "print(a) # Hence this is will be None\n",
    "print(type(a)) # Type with NoneType\n",
    "print(mylist) # WE have to print the List itself "
   ]
  },
  {
   "cell_type": "markdown",
   "metadata": {},
   "source": [
    "## Randint"
   ]
  },
  {
   "cell_type": "markdown",
   "metadata": {},
   "source": [
    "Randint is another function in Random library"
   ]
  },
  {
   "cell_type": "markdown",
   "metadata": {},
   "source": [
    "We have to give range of numbers.....It prints Random integer"
   ]
  },
  {
   "cell_type": "code",
   "execution_count": 35,
   "metadata": {},
   "outputs": [
    {
     "data": {
      "text/plain": [
       "20"
      ]
     },
     "execution_count": 35,
     "metadata": {},
     "output_type": "execute_result"
    }
   ],
   "source": [
    "from random import randint\n",
    "randint(10,20)"
   ]
  },
  {
   "cell_type": "code",
   "execution_count": 37,
   "metadata": {},
   "outputs": [
    {
     "data": {
      "text/plain": [
       "11"
      ]
     },
     "execution_count": 37,
     "metadata": {},
     "output_type": "execute_result"
    }
   ],
   "source": [
    "a=randint(10,15)\n",
    "a"
   ]
  },
  {
   "cell_type": "markdown",
   "metadata": {},
   "source": [
    "## Input"
   ]
  },
  {
   "cell_type": "markdown",
   "metadata": {},
   "source": [
    "Input is used to take input from the users"
   ]
  },
  {
   "cell_type": "code",
   "execution_count": 39,
   "metadata": {},
   "outputs": [
    {
     "name": "stdout",
     "output_type": "stream",
     "text": [
      "What is your name ?Something\n"
     ]
    },
    {
     "data": {
      "text/plain": [
       "'Something'"
      ]
     },
     "execution_count": 39,
     "metadata": {},
     "output_type": "execute_result"
    }
   ],
   "source": [
    "input('What is your name ?')\n",
    "# We can enter the data once we run it"
   ]
  },
  {
   "cell_type": "markdown",
   "metadata": {},
   "source": [
    "Input takes every value as String"
   ]
  },
  {
   "cell_type": "code",
   "execution_count": 40,
   "metadata": {},
   "outputs": [
    {
     "name": "stdout",
     "output_type": "stream",
     "text": [
      "Enter any number :5\n"
     ]
    },
    {
     "data": {
      "text/plain": [
       "'5'"
      ]
     },
     "execution_count": 40,
     "metadata": {},
     "output_type": "execute_result"
    }
   ],
   "source": [
    "input('Enter any number :')\n",
    "# Even if we enter a integer or float it will be saved as String"
   ]
  },
  {
   "cell_type": "code",
   "execution_count": 41,
   "metadata": {},
   "outputs": [
    {
     "name": "stdout",
     "output_type": "stream",
     "text": [
      "What is your favourite number?50\n",
      "Your favourite number is : 50\n",
      "<class 'str'>\n"
     ]
    }
   ],
   "source": [
    "# We can store input values in a variable\n",
    "fav_num = input('What is your favourite number?')\n",
    "# Print is to print output\n",
    "print(f'Your favourite number is : {fav_num}') \n",
    "print(type(fav_num))"
   ]
  },
  {
   "cell_type": "markdown",
   "metadata": {},
   "source": [
    "### Type Casting"
   ]
  },
  {
   "cell_type": "markdown",
   "metadata": {},
   "source": [
    "If we want to change the data type of the value we use type cast"
   ]
  },
  {
   "cell_type": "code",
   "execution_count": 1,
   "metadata": {},
   "outputs": [
    {
     "name": "stdout",
     "output_type": "stream",
     "text": [
      "enter a number :5\n",
      "enter a interger : 5\n",
      "enter a float number : 4\n",
      "Default data type of input function of 5 is <class 'str'>\n",
      "Data type of 5 is <class 'int'>\n",
      "Data type of 4.0 is <class 'float'>\n"
     ]
    }
   ],
   "source": [
    "# We are type casting the input into int and float\n",
    "s = input('enter a number :')\n",
    "num = int(input('enter a interger : '))\n",
    "float_num = float(input('enter a float number : '))\n",
    "print(f'Default data type of input function of {s} is {type(s)}')\n",
    "print(f'Data type of {num} is {type(num)}')\n",
    "print(f'Data type of {float_num} is {type(float_num)}')"
   ]
  },
  {
   "cell_type": "markdown",
   "metadata": {},
   "source": [
    "Appending list from string"
   ]
  },
  {
   "cell_type": "code",
   "execution_count": 2,
   "metadata": {},
   "outputs": [
    {
     "name": "stdout",
     "output_type": "stream",
     "text": [
      "['p', 'a', 'v', 'a', 'n']\n"
     ]
    }
   ],
   "source": [
    "mystring = 'pavan'\n",
    "mylist = []\n",
    "\n",
    "for item in mystring:\n",
    "    mylist.append(item)\n",
    "print(mylist)"
   ]
  },
  {
   "cell_type": "markdown",
   "metadata": {},
   "source": [
    "### List Comprehensions"
   ]
  },
  {
   "cell_type": "markdown",
   "metadata": {},
   "source": [
    "This is another method to create list with for loop inside the list "
   ]
  },
  {
   "cell_type": "markdown",
   "metadata": {},
   "source": [
    "For loop inside the list ........ [num for num in Object]"
   ]
  },
  {
   "cell_type": "code",
   "execution_count": 3,
   "metadata": {},
   "outputs": [],
   "source": [
    "mylist = [letter for letter in 'pavan']"
   ]
  },
  {
   "cell_type": "code",
   "execution_count": 4,
   "metadata": {},
   "outputs": [
    {
     "data": {
      "text/plain": [
       "['p', 'a', 'v', 'a', 'n']"
      ]
     },
     "execution_count": 4,
     "metadata": {},
     "output_type": "execute_result"
    }
   ],
   "source": [
    "mylist"
   ]
  },
  {
   "cell_type": "code",
   "execution_count": 5,
   "metadata": {},
   "outputs": [
    {
     "data": {
      "text/plain": [
       "[0, 1, 2, 3, 4, 5, 6, 7, 8, 9, 10]"
      ]
     },
     "execution_count": 5,
     "metadata": {},
     "output_type": "execute_result"
    }
   ],
   "source": [
    "mynum = [num for num in range(0,11)]\n",
    "mynum"
   ]
  },
  {
   "cell_type": "code",
   "execution_count": 7,
   "metadata": {},
   "outputs": [
    {
     "data": {
      "text/plain": [
       "[0, 1, 4, 9, 16, 25, 36, 49, 64, 81, 100]"
      ]
     },
     "execution_count": 7,
     "metadata": {},
     "output_type": "execute_result"
    }
   ],
   "source": [
    "# We can perform operation in list comprehensions\n",
    "\n",
    "squares=[num**2 for num in range(0,11)]\n",
    "squares"
   ]
  },
  {
   "cell_type": "code",
   "execution_count": 8,
   "metadata": {},
   "outputs": [
    {
     "data": {
      "text/plain": [
       "[0, 2, 4, 6, 8, 10]"
      ]
     },
     "execution_count": 8,
     "metadata": {},
     "output_type": "execute_result"
    }
   ],
   "source": [
    "evens = [num for num in range(0,11) if num%2 ==0]\n",
    "evens"
   ]
  },
  {
   "cell_type": "code",
   "execution_count": 11,
   "metadata": {},
   "outputs": [
    {
     "name": "stdout",
     "output_type": "stream",
     "text": [
      "[0.0, 32.0, 33.5]\n",
      "[32.0, 89.6, 92.30000000000001]\n",
      "[32.0, 89.6, 92.30000000000001]\n"
     ]
    }
   ],
   "source": [
    "celsius=[0.0,32.0,33.5]\n",
    "fareheit=[]\n",
    "\n",
    "# Conversion using for loop\n",
    "for i in celsius:\n",
    "    a = 9/5*i+32\n",
    "    fareheit.append(a)\n",
    "print(celsius)\n",
    "print(fareheit)\n",
    "\n",
    "# WE can use List comprehensions\n",
    "\n",
    "fareheit=[(9/5*i+32) for i in celsius]\n",
    "print(fareheit)"
   ]
  },
  {
   "cell_type": "code",
   "execution_count": null,
   "metadata": {},
   "outputs": [],
   "source": []
  }
 ],
 "metadata": {
  "kernelspec": {
   "display_name": "Python 3",
   "language": "python",
   "name": "python3"
  },
  "language_info": {
   "codemirror_mode": {
    "name": "ipython",
    "version": 3
   },
   "file_extension": ".py",
   "mimetype": "text/x-python",
   "name": "python",
   "nbconvert_exporter": "python",
   "pygments_lexer": "ipython3",
   "version": "3.8.3"
  }
 },
 "nbformat": 4,
 "nbformat_minor": 4
}
